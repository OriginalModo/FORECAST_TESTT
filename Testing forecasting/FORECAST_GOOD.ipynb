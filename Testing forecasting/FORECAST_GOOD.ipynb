{
 "cells": [
  {
   "cell_type": "code",
   "execution_count": 2,
   "metadata": {
    "collapsed": true
   },
   "outputs": [],
   "source": [
    "import pandas as pd\n",
    "import matplotlib.pyplot as plt\n",
    "import warnings\n",
    "warnings.filterwarnings('ignore')\n",
    "import statsmodels.api as sm\n",
    "from pandas.tseries.offsets import DateOffset\n",
    "from statsmodels.tsa.arima_model import ARIMA\n",
    "from statsmodels.tsa.stattools import adfuller\n",
    "from statsmodels.graphics.tsaplots import plot_pacf, plot_acf\n",
    "from datetime import datetime"
   ]
  },
  {
   "cell_type": "code",
   "execution_count": 5,
   "outputs": [
    {
     "data": {
      "text/plain": "    SALE_DT         SALES\n2   2019-03  7.278651e+08\n3   2019-04  6.499091e+08\n4   2019-05  6.118044e+08\n5   2019-06  5.750736e+08\n6   2019-07  5.511557e+08\n7   2019-08  5.745834e+08\n8   2019-09  5.596533e+08\n9   2019-10  5.735714e+08\n10  2019-11  6.270833e+08\n11  2019-12  8.893998e+08",
      "text/html": "<div>\n<style scoped>\n    .dataframe tbody tr th:only-of-type {\n        vertical-align: middle;\n    }\n\n    .dataframe tbody tr th {\n        vertical-align: top;\n    }\n\n    .dataframe thead th {\n        text-align: right;\n    }\n</style>\n<table border=\"1\" class=\"dataframe\">\n  <thead>\n    <tr style=\"text-align: right;\">\n      <th></th>\n      <th>SALE_DT</th>\n      <th>SALES</th>\n    </tr>\n  </thead>\n  <tbody>\n    <tr>\n      <th>2</th>\n      <td>2019-03</td>\n      <td>7.278651e+08</td>\n    </tr>\n    <tr>\n      <th>3</th>\n      <td>2019-04</td>\n      <td>6.499091e+08</td>\n    </tr>\n    <tr>\n      <th>4</th>\n      <td>2019-05</td>\n      <td>6.118044e+08</td>\n    </tr>\n    <tr>\n      <th>5</th>\n      <td>2019-06</td>\n      <td>5.750736e+08</td>\n    </tr>\n    <tr>\n      <th>6</th>\n      <td>2019-07</td>\n      <td>5.511557e+08</td>\n    </tr>\n    <tr>\n      <th>7</th>\n      <td>2019-08</td>\n      <td>5.745834e+08</td>\n    </tr>\n    <tr>\n      <th>8</th>\n      <td>2019-09</td>\n      <td>5.596533e+08</td>\n    </tr>\n    <tr>\n      <th>9</th>\n      <td>2019-10</td>\n      <td>5.735714e+08</td>\n    </tr>\n    <tr>\n      <th>10</th>\n      <td>2019-11</td>\n      <td>6.270833e+08</td>\n    </tr>\n    <tr>\n      <th>11</th>\n      <td>2019-12</td>\n      <td>8.893998e+08</td>\n    </tr>\n  </tbody>\n</table>\n</div>"
     },
     "execution_count": 5,
     "metadata": {},
     "output_type": "execute_result"
    }
   ],
   "source": [
    "df = pd.read_csv('SUM_DATA.csv')\n",
    "# df = pd.read_csv('data.csv')\n",
    "df = df.drop('STORE', axis=1)\n",
    "df.head(10)\n",
    "df.tail(10)"
   ],
   "metadata": {
    "collapsed": false
   }
  },
  {
   "cell_type": "code",
   "execution_count": 6,
   "outputs": [
    {
     "data": {
      "text/plain": "     Month         Sales\n0  2019-01  6.116698e+08\n1  2019-02  6.254852e+08\n2  2019-03  7.278651e+08\n3  2019-04  6.499091e+08\n4  2019-05  6.118044e+08",
      "text/html": "<div>\n<style scoped>\n    .dataframe tbody tr th:only-of-type {\n        vertical-align: middle;\n    }\n\n    .dataframe tbody tr th {\n        vertical-align: top;\n    }\n\n    .dataframe thead th {\n        text-align: right;\n    }\n</style>\n<table border=\"1\" class=\"dataframe\">\n  <thead>\n    <tr style=\"text-align: right;\">\n      <th></th>\n      <th>Month</th>\n      <th>Sales</th>\n    </tr>\n  </thead>\n  <tbody>\n    <tr>\n      <th>0</th>\n      <td>2019-01</td>\n      <td>6.116698e+08</td>\n    </tr>\n    <tr>\n      <th>1</th>\n      <td>2019-02</td>\n      <td>6.254852e+08</td>\n    </tr>\n    <tr>\n      <th>2</th>\n      <td>2019-03</td>\n      <td>7.278651e+08</td>\n    </tr>\n    <tr>\n      <th>3</th>\n      <td>2019-04</td>\n      <td>6.499091e+08</td>\n    </tr>\n    <tr>\n      <th>4</th>\n      <td>2019-05</td>\n      <td>6.118044e+08</td>\n    </tr>\n  </tbody>\n</table>\n</div>"
     },
     "execution_count": 6,
     "metadata": {},
     "output_type": "execute_result"
    }
   ],
   "source": [
    "df.columns = ['Month', 'Sales']\n",
    "df.head()"
   ],
   "metadata": {
    "collapsed": false
   }
  },
  {
   "cell_type": "code",
   "execution_count": 7,
   "outputs": [
    {
     "data": {
      "text/plain": "(12, 2)"
     },
     "execution_count": 7,
     "metadata": {},
     "output_type": "execute_result"
    }
   ],
   "source": [
    "df.shape"
   ],
   "metadata": {
    "collapsed": false
   }
  },
  {
   "cell_type": "code",
   "execution_count": 8,
   "outputs": [
    {
     "data": {
      "text/plain": "Month    0\nSales    0\ndtype: int64"
     },
     "execution_count": 8,
     "metadata": {},
     "output_type": "execute_result"
    }
   ],
   "source": [
    "df.isnull().sum()"
   ],
   "metadata": {
    "collapsed": false
   }
  },
  {
   "cell_type": "code",
   "execution_count": 9,
   "outputs": [
    {
     "data": {
      "text/plain": "      Month         Sales\n7   2019-08  5.745834e+08\n8   2019-09  5.596533e+08\n9   2019-10  5.735714e+08\n10  2019-11  6.270833e+08\n11  2019-12  8.893998e+08",
      "text/html": "<div>\n<style scoped>\n    .dataframe tbody tr th:only-of-type {\n        vertical-align: middle;\n    }\n\n    .dataframe tbody tr th {\n        vertical-align: top;\n    }\n\n    .dataframe thead th {\n        text-align: right;\n    }\n</style>\n<table border=\"1\" class=\"dataframe\">\n  <thead>\n    <tr style=\"text-align: right;\">\n      <th></th>\n      <th>Month</th>\n      <th>Sales</th>\n    </tr>\n  </thead>\n  <tbody>\n    <tr>\n      <th>7</th>\n      <td>2019-08</td>\n      <td>5.745834e+08</td>\n    </tr>\n    <tr>\n      <th>8</th>\n      <td>2019-09</td>\n      <td>5.596533e+08</td>\n    </tr>\n    <tr>\n      <th>9</th>\n      <td>2019-10</td>\n      <td>5.735714e+08</td>\n    </tr>\n    <tr>\n      <th>10</th>\n      <td>2019-11</td>\n      <td>6.270833e+08</td>\n    </tr>\n    <tr>\n      <th>11</th>\n      <td>2019-12</td>\n      <td>8.893998e+08</td>\n    </tr>\n  </tbody>\n</table>\n</div>"
     },
     "execution_count": 9,
     "metadata": {},
     "output_type": "execute_result"
    }
   ],
   "source": [
    "df.tail()"
   ],
   "metadata": {
    "collapsed": false
   }
  },
  {
   "cell_type": "code",
   "execution_count": 10,
   "outputs": [
    {
     "data": {
      "text/plain": "(12, 2)"
     },
     "execution_count": 10,
     "metadata": {},
     "output_type": "execute_result"
    }
   ],
   "source": [
    "df.shape"
   ],
   "metadata": {
    "collapsed": false
   }
  },
  {
   "cell_type": "code",
   "execution_count": 11,
   "outputs": [
    {
     "data": {
      "text/plain": "Month     object\nSales    float64\ndtype: object"
     },
     "execution_count": 11,
     "metadata": {},
     "output_type": "execute_result"
    }
   ],
   "source": [
    "df.dtypes"
   ],
   "metadata": {
    "collapsed": false
   }
  },
  {
   "cell_type": "code",
   "execution_count": 12,
   "outputs": [
    {
     "data": {
      "text/plain": "Month    datetime64[ns]\nSales           float64\ndtype: object"
     },
     "execution_count": 12,
     "metadata": {},
     "output_type": "execute_result"
    }
   ],
   "source": [
    "df['Month'] = pd.to_datetime(df['Month'])\n",
    "df.dtypes"
   ],
   "metadata": {
    "collapsed": false
   }
  },
  {
   "cell_type": "code",
   "execution_count": 13,
   "outputs": [
    {
     "data": {
      "text/plain": "       Month         Sales\n0 2019-01-01  6.116698e+08\n1 2019-02-01  6.254852e+08\n2 2019-03-01  7.278651e+08\n3 2019-04-01  6.499091e+08\n4 2019-05-01  6.118044e+08",
      "text/html": "<div>\n<style scoped>\n    .dataframe tbody tr th:only-of-type {\n        vertical-align: middle;\n    }\n\n    .dataframe tbody tr th {\n        vertical-align: top;\n    }\n\n    .dataframe thead th {\n        text-align: right;\n    }\n</style>\n<table border=\"1\" class=\"dataframe\">\n  <thead>\n    <tr style=\"text-align: right;\">\n      <th></th>\n      <th>Month</th>\n      <th>Sales</th>\n    </tr>\n  </thead>\n  <tbody>\n    <tr>\n      <th>0</th>\n      <td>2019-01-01</td>\n      <td>6.116698e+08</td>\n    </tr>\n    <tr>\n      <th>1</th>\n      <td>2019-02-01</td>\n      <td>6.254852e+08</td>\n    </tr>\n    <tr>\n      <th>2</th>\n      <td>2019-03-01</td>\n      <td>7.278651e+08</td>\n    </tr>\n    <tr>\n      <th>3</th>\n      <td>2019-04-01</td>\n      <td>6.499091e+08</td>\n    </tr>\n    <tr>\n      <th>4</th>\n      <td>2019-05-01</td>\n      <td>6.118044e+08</td>\n    </tr>\n  </tbody>\n</table>\n</div>"
     },
     "execution_count": 13,
     "metadata": {},
     "output_type": "execute_result"
    }
   ],
   "source": [
    "df.head()"
   ],
   "metadata": {
    "collapsed": false
   }
  },
  {
   "cell_type": "code",
   "execution_count": 14,
   "outputs": [
    {
     "data": {
      "text/plain": "                   Sales\nMonth                   \n2019-01-01  6.116698e+08\n2019-02-01  6.254852e+08\n2019-03-01  7.278651e+08\n2019-04-01  6.499091e+08\n2019-05-01  6.118044e+08",
      "text/html": "<div>\n<style scoped>\n    .dataframe tbody tr th:only-of-type {\n        vertical-align: middle;\n    }\n\n    .dataframe tbody tr th {\n        vertical-align: top;\n    }\n\n    .dataframe thead th {\n        text-align: right;\n    }\n</style>\n<table border=\"1\" class=\"dataframe\">\n  <thead>\n    <tr style=\"text-align: right;\">\n      <th></th>\n      <th>Sales</th>\n    </tr>\n    <tr>\n      <th>Month</th>\n      <th></th>\n    </tr>\n  </thead>\n  <tbody>\n    <tr>\n      <th>2019-01-01</th>\n      <td>6.116698e+08</td>\n    </tr>\n    <tr>\n      <th>2019-02-01</th>\n      <td>6.254852e+08</td>\n    </tr>\n    <tr>\n      <th>2019-03-01</th>\n      <td>7.278651e+08</td>\n    </tr>\n    <tr>\n      <th>2019-04-01</th>\n      <td>6.499091e+08</td>\n    </tr>\n    <tr>\n      <th>2019-05-01</th>\n      <td>6.118044e+08</td>\n    </tr>\n  </tbody>\n</table>\n</div>"
     },
     "execution_count": 14,
     "metadata": {},
     "output_type": "execute_result"
    }
   ],
   "source": [
    "df.set_index('Month', inplace=True)\n",
    "df.head()"
   ],
   "metadata": {
    "collapsed": false
   }
  },
  {
   "cell_type": "code",
   "execution_count": 70,
   "outputs": [
    {
     "data": {
      "text/plain": "15476403.59"
     },
     "execution_count": 70,
     "metadata": {},
     "output_type": "execute_result"
    }
   ],
   "source": [
    "df.describe()"
   ],
   "metadata": {
    "collapsed": false
   }
  },
  {
   "cell_type": "code",
   "execution_count": 15,
   "outputs": [
    {
     "data": {
      "text/plain": "<Axes: xlabel='Month'>"
     },
     "execution_count": 15,
     "metadata": {},
     "output_type": "execute_result"
    },
    {
     "data": {
      "text/plain": "<Figure size 640x480 with 1 Axes>",
      "image/png": "[encoded data removed]"
     },
     "metadata": {},
     "output_type": "display_data"
    }
   ],
   "source": [
    "df.plot()"
   ],
   "metadata": {
    "collapsed": false
   }
  },
  {
   "cell_type": "code",
   "execution_count": 16,
   "outputs": [
    {
     "data": {
      "text/plain": "(-1.1721877764419033,\n 0.685443972097322,\n 2,\n 9,\n {'1%': -4.473135048010974,\n  '5%': -3.28988060356653,\n  '10%': -2.7723823456790124},\n 274.27432499073353)"
     },
     "execution_count": 16,
     "metadata": {},
     "output_type": "execute_result"
    }
   ],
   "source": [
    "adfuller(df['Sales'])"
   ],
   "metadata": {
    "collapsed": false
   }
  },
  {
   "cell_type": "code",
   "execution_count": null,
   "outputs": [],
   "source": [],
   "metadata": {
    "collapsed": false
   }
  }
 ],
 "metadata": {
  "kernelspec": {
   "display_name": "Python 3",
   "language": "python",
   "name": "python3"
  },
  "language_info": {
   "codemirror_mode": {
    "name": "ipython",
    "version": 2
   },
   "file_extension": ".py",
   "mimetype": "text/x-python",
   "name": "python",
   "nbconvert_exporter": "python",
   "pygments_lexer": "ipython2",
   "version": "2.7.6"
  }
 },
 "nbformat": 4,
 "nbformat_minor": 0
}
