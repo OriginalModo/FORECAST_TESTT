{
 "cells": [
  {
   "cell_type": "markdown",
   "id": "37b3a99a",
   "metadata": {},
   "source": [
    "# Predicting Sales with ARIMA & SARIMAX"
   ]
  },
  {
   "cell_type": "markdown",
   "id": "aef9e3b3",
   "metadata": {},
   "source": [
    "In this project, we will use time series and forecast champagne sales. \n",
    "\n",
    "The dataset is monthly sales of champagne from year 1964 to 1972."
   ]
  },
  {
   "cell_type": "markdown",
   "id": "f0a7e8cc",
   "metadata": {},
   "source": [
    "**Dataset**: https://www.kaggle.com/datasets/anupamshah/perrin-freres-monthly-champagne-sales"
   ]
  },
  {
   "cell_type": "markdown",
   "id": "848cdbce",
   "metadata": {},
   "source": [
    "The data contains 2 columns:\n",
    "- **month**: contains the month data \n",
    "- **Perrin Freres monthly champagne sales millions**: contains the monthly champagne sales values in millions"
   ]
  },
  {
   "cell_type": "markdown",
   "id": "eda1f704",
   "metadata": {},
   "source": [
    "## Importing Libraries"
   ]
  },
  {
   "cell_type": "code",
   "execution_count": 138,
   "id": "1ea7b9d3",
   "metadata": {
    "scrolled": true
   },
   "outputs": [
    {
     "name": "stdout",
     "output_type": "stream",
     "text": [
      "Requirement already satisfied: statsmodels in e:\\all_python_frameworks\\forecast_test\\venv\\lib\\site-packages (0.13.5)\n",
      "Requirement already satisfied: pandas>=0.25 in e:\\all_python_frameworks\\forecast_test\\venv\\lib\\site-packages (from statsmodels) (2.0.1)\n",
      "Requirement already satisfied: scipy>=1.3 in e:\\all_python_frameworks\\forecast_test\\venv\\lib\\site-packages (from statsmodels) (1.10.1)\n",
      "Requirement already satisfied: packaging>=21.3 in e:\\all_python_frameworks\\forecast_test\\venv\\lib\\site-packages (from statsmodels) (23.1)\n",
      "Requirement already satisfied: numpy>=1.22.3 in e:\\all_python_frameworks\\forecast_test\\venv\\lib\\site-packages (from statsmodels) (1.24.3)\n",
      "Requirement already satisfied: patsy>=0.5.2 in e:\\all_python_frameworks\\forecast_test\\venv\\lib\\site-packages (from statsmodels) (0.5.3)\n",
      "Requirement already satisfied: pytz>=2020.1 in e:\\all_python_frameworks\\forecast_test\\venv\\lib\\site-packages (from pandas>=0.25->statsmodels) (2023.3)\n",
      "Requirement already satisfied: tzdata>=2022.1 in e:\\all_python_frameworks\\forecast_test\\venv\\lib\\site-packages (from pandas>=0.25->statsmodels) (2023.3)\n",
      "Requirement already satisfied: python-dateutil>=2.8.2 in e:\\all_python_frameworks\\forecast_test\\venv\\lib\\site-packages (from pandas>=0.25->statsmodels) (2.8.2)\n",
      "Requirement already satisfied: six in e:\\all_python_frameworks\\forecast_test\\venv\\lib\\site-packages (from patsy>=0.5.2->statsmodels) (1.16.0)\n"
     ]
    },
    {
     "name": "stderr",
     "output_type": "stream",
     "text": [
      "\n",
      "[notice] A new release of pip available: 22.3.1 -> 23.1.2\n",
      "[notice] To update, run: python.exe -m pip install --upgrade pip\n"
     ]
    }
   ],
   "source": [
    "!pip install statsmodels"
   ]
  },
  {
   "cell_type": "code",
   "execution_count": 189,
   "id": "c31c482a",
   "metadata": {},
   "outputs": [],
   "source": [
    "import pandas as pd\n",
    "import matplotlib.pyplot as plt\n",
    "import warnings\n",
    "warnings.filterwarnings('ignore')\n",
    "import statsmodels.api as sm\n",
    "from pandas.tseries.offsets import DateOffset\n",
    "from statsmodels.tsa.arima_model import ARIMA\n",
    "from statsmodels.tsa.stattools import adfuller\n",
    "from statsmodels.graphics.tsaplots import plot_pacf, plot_acf\n",
    "from datetime import datetime"
   ]
  },
  {
   "cell_type": "markdown",
   "id": "fb823a07",
   "metadata": {},
   "source": [
    "## Importing Data"
   ]
  },
  {
   "cell_type": "code",
   "execution_count": 190,
   "id": "dc9de653",
   "metadata": {},
   "outputs": [],
   "source": [
    "df = pd.read_csv('SUM_DATA.csv.csv')\n",
    "# df = pd.read_csv('data.csv')"
   ]
  },
  {
   "cell_type": "code",
   "execution_count": 191,
   "outputs": [],
   "source": [
    "df = df.drop('STORE', axis=1)"
   ],
   "metadata": {
    "collapsed": false
   }
  },
  {
   "cell_type": "code",
   "execution_count": 192,
   "id": "0132e12e",
   "metadata": {
    "scrolled": true
   },
   "outputs": [
    {
     "data": {
      "text/plain": "   SALE_DT         SALES\n0  2019-01  6.116698e+08\n1  2019-02  6.254852e+08\n2  2019-03  7.278651e+08\n3  2019-04  6.499091e+08\n4  2019-05  6.118044e+08",
      "text/html": "<div>\n<style scoped>\n    .dataframe tbody tr th:only-of-type {\n        vertical-align: middle;\n    }\n\n    .dataframe tbody tr th {\n        vertical-align: top;\n    }\n\n    .dataframe thead th {\n        text-align: right;\n    }\n</style>\n<table border=\"1\" class=\"dataframe\">\n  <thead>\n    <tr style=\"text-align: right;\">\n      <th></th>\n      <th>SALE_DT</th>\n      <th>SALES</th>\n    </tr>\n  </thead>\n  <tbody>\n    <tr>\n      <th>0</th>\n      <td>2019-01</td>\n      <td>6.116698e+08</td>\n    </tr>\n    <tr>\n      <th>1</th>\n      <td>2019-02</td>\n      <td>6.254852e+08</td>\n    </tr>\n    <tr>\n      <th>2</th>\n      <td>2019-03</td>\n      <td>7.278651e+08</td>\n    </tr>\n    <tr>\n      <th>3</th>\n      <td>2019-04</td>\n      <td>6.499091e+08</td>\n    </tr>\n    <tr>\n      <th>4</th>\n      <td>2019-05</td>\n      <td>6.118044e+08</td>\n    </tr>\n  </tbody>\n</table>\n</div>"
     },
     "execution_count": 192,
     "metadata": {},
     "output_type": "execute_result"
    }
   ],
   "source": [
    "df.head()"
   ]
  },
  {
   "cell_type": "markdown",
   "id": "d6355059",
   "metadata": {},
   "source": [
    "## Data Cleaning"
   ]
  },
  {
   "cell_type": "code",
   "execution_count": 193,
   "id": "ac4f7dde",
   "metadata": {},
   "outputs": [
    {
     "data": {
      "text/plain": "     Month         Sales\n0  2019-01  6.116698e+08\n1  2019-02  6.254852e+08\n2  2019-03  7.278651e+08\n3  2019-04  6.499091e+08\n4  2019-05  6.118044e+08",
      "text/html": "<div>\n<style scoped>\n    .dataframe tbody tr th:only-of-type {\n        vertical-align: middle;\n    }\n\n    .dataframe tbody tr th {\n        vertical-align: top;\n    }\n\n    .dataframe thead th {\n        text-align: right;\n    }\n</style>\n<table border=\"1\" class=\"dataframe\">\n  <thead>\n    <tr style=\"text-align: right;\">\n      <th></th>\n      <th>Month</th>\n      <th>Sales</th>\n    </tr>\n  </thead>\n  <tbody>\n    <tr>\n      <th>0</th>\n      <td>2019-01</td>\n      <td>6.116698e+08</td>\n    </tr>\n    <tr>\n      <th>1</th>\n      <td>2019-02</td>\n      <td>6.254852e+08</td>\n    </tr>\n    <tr>\n      <th>2</th>\n      <td>2019-03</td>\n      <td>7.278651e+08</td>\n    </tr>\n    <tr>\n      <th>3</th>\n      <td>2019-04</td>\n      <td>6.499091e+08</td>\n    </tr>\n    <tr>\n      <th>4</th>\n      <td>2019-05</td>\n      <td>6.118044e+08</td>\n    </tr>\n  </tbody>\n</table>\n</div>"
     },
     "execution_count": 193,
     "metadata": {},
     "output_type": "execute_result"
    }
   ],
   "source": [
    "df.columns = ['Month', 'Sales']\n",
    "df.head()"
   ]
  },
  {
   "cell_type": "code",
   "execution_count": 194,
   "outputs": [],
   "source": [
    "\n",
    "# for i in df.Month[:10]:\n",
    "#     df.Month = i[:5]+'01'\n",
    "# print(df.Month)\n",
    "# df.tail()"
   ],
   "metadata": {
    "collapsed": false
   }
  },
  {
   "cell_type": "code",
   "execution_count": 195,
   "id": "97ba479e",
   "metadata": {},
   "outputs": [
    {
     "data": {
      "text/plain": "(42, 2)"
     },
     "execution_count": 195,
     "metadata": {},
     "output_type": "execute_result"
    }
   ],
   "source": [
    "df.shape"
   ]
  },
  {
   "cell_type": "markdown",
   "id": "0ca0e817",
   "metadata": {},
   "source": [
    "There are 1 missing value in month and 2 values in sales column. We will drop them"
   ]
  },
  {
   "cell_type": "code",
   "execution_count": 196,
   "id": "cd658fd6",
   "metadata": {
    "scrolled": true
   },
   "outputs": [
    {
     "data": {
      "text/plain": "Month    0\nSales    0\ndtype: int64"
     },
     "execution_count": 196,
     "metadata": {},
     "output_type": "execute_result"
    }
   ],
   "source": [
    "df.isnull().sum()"
   ]
  },
  {
   "cell_type": "code",
   "execution_count": 197,
   "id": "3b3e35e4",
   "metadata": {},
   "outputs": [
    {
     "data": {
      "text/plain": "      Month         Sales\n37  2022-02  6.254852e+08\n38  2022-03  7.278651e+08\n39  2022-04  6.499091e+08\n40  2022-05  6.118044e+08\n41  2022-06  5.750736e+08",
      "text/html": "<div>\n<style scoped>\n    .dataframe tbody tr th:only-of-type {\n        vertical-align: middle;\n    }\n\n    .dataframe tbody tr th {\n        vertical-align: top;\n    }\n\n    .dataframe thead th {\n        text-align: right;\n    }\n</style>\n<table border=\"1\" class=\"dataframe\">\n  <thead>\n    <tr style=\"text-align: right;\">\n      <th></th>\n      <th>Month</th>\n      <th>Sales</th>\n    </tr>\n  </thead>\n  <tbody>\n    <tr>\n      <th>37</th>\n      <td>2022-02</td>\n      <td>6.254852e+08</td>\n    </tr>\n    <tr>\n      <th>38</th>\n      <td>2022-03</td>\n      <td>7.278651e+08</td>\n    </tr>\n    <tr>\n      <th>39</th>\n      <td>2022-04</td>\n      <td>6.499091e+08</td>\n    </tr>\n    <tr>\n      <th>40</th>\n      <td>2022-05</td>\n      <td>6.118044e+08</td>\n    </tr>\n    <tr>\n      <th>41</th>\n      <td>2022-06</td>\n      <td>5.750736e+08</td>\n    </tr>\n  </tbody>\n</table>\n</div>"
     },
     "execution_count": 197,
     "metadata": {},
     "output_type": "execute_result"
    }
   ],
   "source": [
    "df.tail()"
   ]
  },
  {
   "cell_type": "code",
   "execution_count": 198,
   "id": "cf7d9db0",
   "metadata": {},
   "outputs": [
    {
     "data": {
      "text/plain": "(42, 2)"
     },
     "execution_count": 198,
     "metadata": {},
     "output_type": "execute_result"
    }
   ],
   "source": [
    "df.shape"
   ]
  },
  {
   "cell_type": "markdown",
   "id": "08e8e5c5",
   "metadata": {},
   "source": [
    "Month column contains date format so we will convert it to datetime datatype"
   ]
  },
  {
   "cell_type": "code",
   "execution_count": 199,
   "id": "dd4b8a5a",
   "metadata": {},
   "outputs": [
    {
     "data": {
      "text/plain": "Month     object\nSales    float64\ndtype: object"
     },
     "execution_count": 199,
     "metadata": {},
     "output_type": "execute_result"
    }
   ],
   "source": [
    "df.dtypes"
   ]
  },
  {
   "cell_type": "code",
   "execution_count": 200,
   "id": "073854e8",
   "metadata": {},
   "outputs": [],
   "source": [
    "df['Month'] = pd.to_datetime(df['Month'])"
   ]
  },
  {
   "cell_type": "code",
   "execution_count": 201,
   "id": "39a4841b",
   "metadata": {},
   "outputs": [
    {
     "data": {
      "text/plain": "Month    datetime64[ns]\nSales           float64\ndtype: object"
     },
     "execution_count": 201,
     "metadata": {},
     "output_type": "execute_result"
    }
   ],
   "source": [
    "df.dtypes"
   ]
  },
  {
   "cell_type": "code",
   "execution_count": 202,
   "id": "3eaecb09",
   "metadata": {},
   "outputs": [
    {
     "data": {
      "text/plain": "       Month         Sales\n0 2019-01-01  6.116698e+08\n1 2019-02-01  6.254852e+08\n2 2019-03-01  7.278651e+08\n3 2019-04-01  6.499091e+08\n4 2019-05-01  6.118044e+08",
      "text/html": "<div>\n<style scoped>\n    .dataframe tbody tr th:only-of-type {\n        vertical-align: middle;\n    }\n\n    .dataframe tbody tr th {\n        vertical-align: top;\n    }\n\n    .dataframe thead th {\n        text-align: right;\n    }\n</style>\n<table border=\"1\" class=\"dataframe\">\n  <thead>\n    <tr style=\"text-align: right;\">\n      <th></th>\n      <th>Month</th>\n      <th>Sales</th>\n    </tr>\n  </thead>\n  <tbody>\n    <tr>\n      <th>0</th>\n      <td>2019-01-01</td>\n      <td>6.116698e+08</td>\n    </tr>\n    <tr>\n      <th>1</th>\n      <td>2019-02-01</td>\n      <td>6.254852e+08</td>\n    </tr>\n    <tr>\n      <th>2</th>\n      <td>2019-03-01</td>\n      <td>7.278651e+08</td>\n    </tr>\n    <tr>\n      <th>3</th>\n      <td>2019-04-01</td>\n      <td>6.499091e+08</td>\n    </tr>\n    <tr>\n      <th>4</th>\n      <td>2019-05-01</td>\n      <td>6.118044e+08</td>\n    </tr>\n  </tbody>\n</table>\n</div>"
     },
     "execution_count": 202,
     "metadata": {},
     "output_type": "execute_result"
    }
   ],
   "source": [
    "df.head()"
   ]
  },
  {
   "cell_type": "markdown",
   "id": "d94db640",
   "metadata": {},
   "source": [
    "We will use month values as index value"
   ]
  },
  {
   "cell_type": "code",
   "execution_count": 203,
   "id": "c3749492",
   "metadata": {},
   "outputs": [],
   "source": [
    "df.set_index('Month', inplace=True)"
   ]
  },
  {
   "cell_type": "code",
   "execution_count": 204,
   "id": "59e1b279",
   "metadata": {
    "scrolled": true
   },
   "outputs": [
    {
     "data": {
      "text/plain": "                   Sales\nMonth                   \n2019-01-01  6.116698e+08\n2019-02-01  6.254852e+08\n2019-03-01  7.278651e+08\n2019-04-01  6.499091e+08\n2019-05-01  6.118044e+08",
      "text/html": "<div>\n<style scoped>\n    .dataframe tbody tr th:only-of-type {\n        vertical-align: middle;\n    }\n\n    .dataframe tbody tr th {\n        vertical-align: top;\n    }\n\n    .dataframe thead th {\n        text-align: right;\n    }\n</style>\n<table border=\"1\" class=\"dataframe\">\n  <thead>\n    <tr style=\"text-align: right;\">\n      <th></th>\n      <th>Sales</th>\n    </tr>\n    <tr>\n      <th>Month</th>\n      <th></th>\n    </tr>\n  </thead>\n  <tbody>\n    <tr>\n      <th>2019-01-01</th>\n      <td>6.116698e+08</td>\n    </tr>\n    <tr>\n      <th>2019-02-01</th>\n      <td>6.254852e+08</td>\n    </tr>\n    <tr>\n      <th>2019-03-01</th>\n      <td>7.278651e+08</td>\n    </tr>\n    <tr>\n      <th>2019-04-01</th>\n      <td>6.499091e+08</td>\n    </tr>\n    <tr>\n      <th>2019-05-01</th>\n      <td>6.118044e+08</td>\n    </tr>\n  </tbody>\n</table>\n</div>"
     },
     "execution_count": 204,
     "metadata": {},
     "output_type": "execute_result"
    }
   ],
   "source": [
    "df.head()"
   ]
  },
  {
   "cell_type": "code",
   "execution_count": 205,
   "id": "54037d06",
   "metadata": {},
   "outputs": [
    {
     "data": {
      "text/plain": "              Sales\ncount  4.200000e+01\nmean   6.317516e+08\nstd    8.677633e+07\nmin    5.511557e+08\n25%    5.745834e+08\n50%    6.118044e+08\n75%    6.442026e+08\nmax    8.893998e+08",
      "text/html": "<div>\n<style scoped>\n    .dataframe tbody tr th:only-of-type {\n        vertical-align: middle;\n    }\n\n    .dataframe tbody tr th {\n        vertical-align: top;\n    }\n\n    .dataframe thead th {\n        text-align: right;\n    }\n</style>\n<table border=\"1\" class=\"dataframe\">\n  <thead>\n    <tr style=\"text-align: right;\">\n      <th></th>\n      <th>Sales</th>\n    </tr>\n  </thead>\n  <tbody>\n    <tr>\n      <th>count</th>\n      <td>4.200000e+01</td>\n    </tr>\n    <tr>\n      <th>mean</th>\n      <td>6.317516e+08</td>\n    </tr>\n    <tr>\n      <th>std</th>\n      <td>8.677633e+07</td>\n    </tr>\n    <tr>\n      <th>min</th>\n      <td>5.511557e+08</td>\n    </tr>\n    <tr>\n      <th>25%</th>\n      <td>5.745834e+08</td>\n    </tr>\n    <tr>\n      <th>50%</th>\n      <td>6.118044e+08</td>\n    </tr>\n    <tr>\n      <th>75%</th>\n      <td>6.442026e+08</td>\n    </tr>\n    <tr>\n      <th>max</th>\n      <td>8.893998e+08</td>\n    </tr>\n  </tbody>\n</table>\n</div>"
     },
     "execution_count": 205,
     "metadata": {},
     "output_type": "execute_result"
    }
   ],
   "source": [
    "df.describe()"
   ]
  },
  {
   "cell_type": "markdown",
   "id": "c6d3a458",
   "metadata": {},
   "source": [
    "## Visualizing Sales"
   ]
  },
  {
   "cell_type": "markdown",
   "id": "89eec216",
   "metadata": {},
   "source": [
    "Now we can visualize our data"
   ]
  },
  {
   "cell_type": "markdown",
   "id": "cf99038f",
   "metadata": {},
   "source": [
    "seasonal data"
   ]
  },
  {
   "cell_type": "code",
   "execution_count": 206,
   "id": "8f84e99d",
   "metadata": {
    "scrolled": false
   },
   "outputs": [
    {
     "data": {
      "text/plain": "<Axes: xlabel='Month'>"
     },
     "execution_count": 206,
     "metadata": {},
     "output_type": "execute_result"
    },
    {
     "data": {
      "text/plain": "<Figure size 640x480 with 1 Axes>",
      "image/png": "[encoded data removed]"
     },
     "metadata": {},
     "output_type": "display_data"
    }
   ],
   "source": [
    "df.plot()"
   ]
  },
  {
   "cell_type": "markdown",
   "id": "5749f88c",
   "metadata": {},
   "source": [
    "As seen below, our data is seasonal. Seasonality occurs when time series data exhibits regular and predictable patterns at time intervals that are smaller than a year."
   ]
  },
  {
   "cell_type": "markdown",
   "id": "96fb8b1a",
   "metadata": {},
   "source": [
    "## Checking for Stationarity"
   ]
  },
  {
   "cell_type": "markdown",
   "id": "0f741b1f",
   "metadata": {},
   "source": [
    "Data must be stationary for the time series use case.\n",
    "\n",
    "**Stationarity** means the statistical properties of the data in a time series do not change over time. It’s a way to measure whether the data has structural patterns like seasonality/trends.\n",
    "\n",
    "Why is it important to check for stationarity?\n",
    "\n",
    "- Stationary data is much easier to analyze. \n",
    "\n",
    "- When forecasting future events, time series models assume that each point is independent of one others. Since stationary data contains no trends or seasonality, the data are considered independent of each other.\n",
    "\n",
    "So we have to check for stationary before using ARIMA & SARIMAX.\n",
    "\n",
    "**How can we identify stationary data?**\n",
    "\n",
    "There are 2 statistical tests to check the time series data is stationary or not.\n",
    "\n",
    "- **1- ADF - Augmented Dickey-Fuller Test**\n",
    "- **2- Detrending/Differencing**\n",
    "\n",
    "We will conduct Augmented Dickey-Fuller test to check if our data is stationary or not.\n",
    "\n",
    "**How ADF test is conduct?**\n",
    "\n",
    "- The ADF method in statsmodels will output the p-value, the value of the test statistics. If the test statistic is less than the critical value and the p-value is less than the alpha value you set (conventional alpha = 0.05), then there is enough evidence to reject the null hypothesis and state that the time series is stationary.\n",
    "\n",
    "ADF test -> p-value < 0.05"
   ]
  },
  {
   "cell_type": "markdown",
   "id": "fb0ce490",
   "metadata": {},
   "source": [
    "### Conducting ADF Test"
   ]
  },
  {
   "cell_type": "markdown",
   "id": "bb3eed6b",
   "metadata": {},
   "source": [
    "We will contuct ADF test with the following assumptions and hypotheses:\n",
    "\n",
    "- **Null Hypothesis (H0)**: Data is not stationary.\n",
    "- **Alternative Hypothesis (H1)**:  Data is stationary."
   ]
  },
  {
   "cell_type": "code",
   "execution_count": 207,
   "id": "aaeb9264",
   "metadata": {
    "scrolled": true
   },
   "outputs": [
    {
     "data": {
      "text/plain": "(-136595040901.66649,\n 0.0,\n 10,\n 31,\n {'1%': -3.661428725118324,\n  '5%': -2.960525341210433,\n  '10%': -2.6193188033298647},\n -687.7886839715788)"
     },
     "execution_count": 207,
     "metadata": {},
     "output_type": "execute_result"
    }
   ],
   "source": [
    "adfuller(df['Sales'])"
   ]
  },
  {
   "cell_type": "code",
   "execution_count": 208,
   "id": "00225d0c",
   "metadata": {},
   "outputs": [],
   "source": [
    "def adfuller_test(sales):\n",
    "    result = adfuller(sales)\n",
    "    \n",
    "    labels = ['ADF test statistics', 'p-value', 'Lags used', 'Number of obs used']\n",
    "    \n",
    "    for value, label in zip(result, labels):\n",
    "        print('{} : {} '.format(label, value))\n",
    "        \n",
    "    if result[1]<=0.05:\n",
    "        print('Strong evidence against null hypothesis, reject the null hypothesis and data is stationary')\n",
    "    else:\n",
    "        print('Weak evidence against null hypothesis, accept the null hypothesis and data is not stationary')"
   ]
  },
  {
   "cell_type": "code",
   "execution_count": 209,
   "id": "c80a92ae",
   "metadata": {
    "scrolled": false
   },
   "outputs": [
    {
     "name": "stdout",
     "output_type": "stream",
     "text": [
      "ADF test statistics : -136595040901.66649 \n",
      "p-value : 0.0 \n",
      "Lags used : 10 \n",
      "Number of obs used : 31 \n",
      "Strong evidence against null hypothesis, reject the null hypothesis and data is stationary\n"
     ]
    }
   ],
   "source": [
    "adfuller_test(df['Sales'])"
   ]
  },
  {
   "cell_type": "markdown",
   "id": "bf120a7a",
   "metadata": {},
   "source": [
    "As seen above, the p-value of the ADF test is greater than 0.05, so our data is not stationary. For time series use case we have to make our data stationary."
   ]
  },
  {
   "cell_type": "code",
   "execution_count": 225,
   "id": "40311182",
   "metadata": {
    "scrolled": true
   },
   "outputs": [
    {
     "data": {
      "text/plain": "                   Sales  Seasonal first diff.  Sales first diff.\nMonth                                                            \n2019-01-01  6.116698e+08                   NaN                NaN\n2019-02-01  6.254852e+08                   NaN       1.381540e+07\n2019-03-01  7.278651e+08                   NaN       1.023798e+08\n2019-04-01  6.499091e+08                   NaN      -7.795598e+07\n2019-05-01  6.118044e+08                   NaN      -3.810472e+07\n2019-06-01  5.750736e+08                   NaN      -3.673080e+07\n2019-07-01  5.511557e+08                   NaN      -2.391781e+07\n2019-08-01  5.745834e+08                   NaN       2.342769e+07\n2019-09-01  5.596533e+08                   NaN      -1.493012e+07\n2019-10-01  5.735714e+08                   NaN       1.391809e+07\n2019-11-01  6.270833e+08                   NaN       5.351190e+07\n2019-12-01  8.893998e+08                   NaN       2.623165e+08\n2020-01-01  6.116698e+08                   0.0      -2.777300e+08\n2020-02-01  6.254852e+08                   0.0       1.381540e+07\n2020-03-01  7.278651e+08                   0.0       1.023798e+08\n2020-04-01  6.499091e+08                   0.0      -7.795598e+07\n2020-05-01  6.118044e+08                   0.0      -3.810472e+07\n2020-06-01  5.750736e+08                   0.0      -3.673080e+07\n2020-07-01  5.511557e+08                   0.0      -2.391781e+07\n2020-08-01  5.745834e+08                   0.0       2.342769e+07\n2020-09-01  5.596533e+08                   0.0      -1.493012e+07\n2020-10-01  5.735714e+08                   0.0       1.391809e+07\n2020-11-01  6.270833e+08                   0.0       5.351190e+07\n2020-12-01  8.893998e+08                   0.0       2.623165e+08\n2021-01-01  6.116698e+08                   0.0      -2.777300e+08\n2021-02-01  6.254852e+08                   0.0       1.381540e+07\n2021-03-01  7.278651e+08                   0.0       1.023798e+08\n2021-04-01  6.499091e+08                   0.0      -7.795598e+07\n2021-05-01  6.118044e+08                   0.0      -3.810472e+07\n2021-06-01  5.750736e+08                   0.0      -3.673080e+07\n2021-07-01  5.511557e+08                   0.0      -2.391781e+07\n2021-08-01  5.745834e+08                   0.0       2.342769e+07\n2021-09-01  5.596533e+08                   0.0      -1.493012e+07\n2021-10-01  5.735714e+08                   0.0       1.391809e+07\n2021-11-01  6.270833e+08                   0.0       5.351190e+07\n2021-12-01  8.893998e+08                   0.0       2.623165e+08\n2022-01-01  6.116698e+08                   0.0      -2.777300e+08\n2022-02-01  6.254852e+08                   0.0       1.381540e+07\n2022-03-01  7.278651e+08                   0.0       1.023798e+08\n2022-04-01  6.499091e+08                   0.0      -7.795598e+07\n2022-05-01  6.118044e+08                   0.0      -3.810472e+07\n2022-06-01  5.750736e+08                   0.0      -3.673080e+07",
      "text/html": "<div>\n<style scoped>\n    .dataframe tbody tr th:only-of-type {\n        vertical-align: middle;\n    }\n\n    .dataframe tbody tr th {\n        vertical-align: top;\n    }\n\n    .dataframe thead th {\n        text-align: right;\n    }\n</style>\n<table border=\"1\" class=\"dataframe\">\n  <thead>\n    <tr style=\"text-align: right;\">\n      <th></th>\n      <th>Sales</th>\n      <th>Seasonal first diff.</th>\n      <th>Sales first diff.</th>\n    </tr>\n    <tr>\n      <th>Month</th>\n      <th></th>\n      <th></th>\n      <th></th>\n    </tr>\n  </thead>\n  <tbody>\n    <tr>\n      <th>2019-01-01</th>\n      <td>6.116698e+08</td>\n      <td>NaN</td>\n      <td>NaN</td>\n    </tr>\n    <tr>\n      <th>2019-02-01</th>\n      <td>6.254852e+08</td>\n      <td>NaN</td>\n      <td>1.381540e+07</td>\n    </tr>\n    <tr>\n      <th>2019-03-01</th>\n      <td>7.278651e+08</td>\n      <td>NaN</td>\n      <td>1.023798e+08</td>\n    </tr>\n    <tr>\n      <th>2019-04-01</th>\n      <td>6.499091e+08</td>\n      <td>NaN</td>\n      <td>-7.795598e+07</td>\n    </tr>\n    <tr>\n      <th>2019-05-01</th>\n      <td>6.118044e+08</td>\n      <td>NaN</td>\n      <td>-3.810472e+07</td>\n    </tr>\n    <tr>\n      <th>2019-06-01</th>\n      <td>5.750736e+08</td>\n      <td>NaN</td>\n      <td>-3.673080e+07</td>\n    </tr>\n    <tr>\n      <th>2019-07-01</th>\n      <td>5.511557e+08</td>\n      <td>NaN</td>\n      <td>-2.391781e+07</td>\n    </tr>\n    <tr>\n      <th>2019-08-01</th>\n      <td>5.745834e+08</td>\n      <td>NaN</td>\n      <td>2.342769e+07</td>\n    </tr>\n    <tr>\n      <th>2019-09-01</th>\n      <td>5.596533e+08</td>\n      <td>NaN</td>\n      <td>-1.493012e+07</td>\n    </tr>\n    <tr>\n      <th>2019-10-01</th>\n      <td>5.735714e+08</td>\n      <td>NaN</td>\n      <td>1.391809e+07</td>\n    </tr>\n    <tr>\n      <th>2019-11-01</th>\n      <td>6.270833e+08</td>\n      <td>NaN</td>\n      <td>5.351190e+07</td>\n    </tr>\n    <tr>\n      <th>2019-12-01</th>\n      <td>8.893998e+08</td>\n      <td>NaN</td>\n      <td>2.623165e+08</td>\n    </tr>\n    <tr>\n      <th>2020-01-01</th>\n      <td>6.116698e+08</td>\n      <td>0.0</td>\n      <td>-2.777300e+08</td>\n    </tr>\n    <tr>\n      <th>2020-02-01</th>\n      <td>6.254852e+08</td>\n      <td>0.0</td>\n      <td>1.381540e+07</td>\n    </tr>\n    <tr>\n      <th>2020-03-01</th>\n      <td>7.278651e+08</td>\n      <td>0.0</td>\n      <td>1.023798e+08</td>\n    </tr>\n    <tr>\n      <th>2020-04-01</th>\n      <td>6.499091e+08</td>\n      <td>0.0</td>\n      <td>-7.795598e+07</td>\n    </tr>\n    <tr>\n      <th>2020-05-01</th>\n      <td>6.118044e+08</td>\n      <td>0.0</td>\n      <td>-3.810472e+07</td>\n    </tr>\n    <tr>\n      <th>2020-06-01</th>\n      <td>5.750736e+08</td>\n      <td>0.0</td>\n      <td>-3.673080e+07</td>\n    </tr>\n    <tr>\n      <th>2020-07-01</th>\n      <td>5.511557e+08</td>\n      <td>0.0</td>\n      <td>-2.391781e+07</td>\n    </tr>\n    <tr>\n      <th>2020-08-01</th>\n      <td>5.745834e+08</td>\n      <td>0.0</td>\n      <td>2.342769e+07</td>\n    </tr>\n    <tr>\n      <th>2020-09-01</th>\n      <td>5.596533e+08</td>\n      <td>0.0</td>\n      <td>-1.493012e+07</td>\n    </tr>\n    <tr>\n      <th>2020-10-01</th>\n      <td>5.735714e+08</td>\n      <td>0.0</td>\n      <td>1.391809e+07</td>\n    </tr>\n    <tr>\n      <th>2020-11-01</th>\n      <td>6.270833e+08</td>\n      <td>0.0</td>\n      <td>5.351190e+07</td>\n    </tr>\n    <tr>\n      <th>2020-12-01</th>\n      <td>8.893998e+08</td>\n      <td>0.0</td>\n      <td>2.623165e+08</td>\n    </tr>\n    <tr>\n      <th>2021-01-01</th>\n      <td>6.116698e+08</td>\n      <td>0.0</td>\n      <td>-2.777300e+08</td>\n    </tr>\n    <tr>\n      <th>2021-02-01</th>\n      <td>6.254852e+08</td>\n      <td>0.0</td>\n      <td>1.381540e+07</td>\n    </tr>\n    <tr>\n      <th>2021-03-01</th>\n      <td>7.278651e+08</td>\n      <td>0.0</td>\n      <td>1.023798e+08</td>\n    </tr>\n    <tr>\n      <th>2021-04-01</th>\n      <td>6.499091e+08</td>\n      <td>0.0</td>\n      <td>-7.795598e+07</td>\n    </tr>\n    <tr>\n      <th>2021-05-01</th>\n      <td>6.118044e+08</td>\n      <td>0.0</td>\n      <td>-3.810472e+07</td>\n    </tr>\n    <tr>\n      <th>2021-06-01</th>\n      <td>5.750736e+08</td>\n      <td>0.0</td>\n      <td>-3.673080e+07</td>\n    </tr>\n    <tr>\n      <th>2021-07-01</th>\n      <td>5.511557e+08</td>\n      <td>0.0</td>\n      <td>-2.391781e+07</td>\n    </tr>\n    <tr>\n      <th>2021-08-01</th>\n      <td>5.745834e+08</td>\n      <td>0.0</td>\n      <td>2.342769e+07</td>\n    </tr>\n    <tr>\n      <th>2021-09-01</th>\n      <td>5.596533e+08</td>\n      <td>0.0</td>\n      <td>-1.493012e+07</td>\n    </tr>\n    <tr>\n      <th>2021-10-01</th>\n      <td>5.735714e+08</td>\n      <td>0.0</td>\n      <td>1.391809e+07</td>\n    </tr>\n    <tr>\n      <th>2021-11-01</th>\n      <td>6.270833e+08</td>\n      <td>0.0</td>\n      <td>5.351190e+07</td>\n    </tr>\n    <tr>\n      <th>2021-12-01</th>\n      <td>8.893998e+08</td>\n      <td>0.0</td>\n      <td>2.623165e+08</td>\n    </tr>\n    <tr>\n      <th>2022-01-01</th>\n      <td>6.116698e+08</td>\n      <td>0.0</td>\n      <td>-2.777300e+08</td>\n    </tr>\n    <tr>\n      <th>2022-02-01</th>\n      <td>6.254852e+08</td>\n      <td>0.0</td>\n      <td>1.381540e+07</td>\n    </tr>\n    <tr>\n      <th>2022-03-01</th>\n      <td>7.278651e+08</td>\n      <td>0.0</td>\n      <td>1.023798e+08</td>\n    </tr>\n    <tr>\n      <th>2022-04-01</th>\n      <td>6.499091e+08</td>\n      <td>0.0</td>\n      <td>-7.795598e+07</td>\n    </tr>\n    <tr>\n      <th>2022-05-01</th>\n      <td>6.118044e+08</td>\n      <td>0.0</td>\n      <td>-3.810472e+07</td>\n    </tr>\n    <tr>\n      <th>2022-06-01</th>\n      <td>5.750736e+08</td>\n      <td>0.0</td>\n      <td>-3.673080e+07</td>\n    </tr>\n  </tbody>\n</table>\n</div>"
     },
     "execution_count": 225,
     "metadata": {},
     "output_type": "execute_result"
    }
   ],
   "source": [
    "df"
   ]
  },
  {
   "cell_type": "code",
   "execution_count": 226,
   "id": "c97861f1",
   "metadata": {},
   "outputs": [],
   "source": [
    "# df['Sales'].shift(1)"
   ]
  },
  {
   "cell_type": "code",
   "execution_count": 227,
   "id": "3d522002",
   "metadata": {},
   "outputs": [],
   "source": [
    "df['Sales first diff.'] = df['Sales'] - df['Sales'].shift(1)"
   ]
  },
  {
   "cell_type": "code",
   "execution_count": 228,
   "id": "2b79dd0d",
   "metadata": {},
   "outputs": [
    {
     "data": {
      "text/plain": "                   Sales  Seasonal first diff.  Sales first diff.\nMonth                                                            \n2019-01-01  6.116698e+08                   NaN                NaN\n2019-02-01  6.254852e+08                   NaN       1.381540e+07\n2019-03-01  7.278651e+08                   NaN       1.023798e+08\n2019-04-01  6.499091e+08                   NaN      -7.795598e+07\n2019-05-01  6.118044e+08                   NaN      -3.810472e+07",
      "text/html": "<div>\n<style scoped>\n    .dataframe tbody tr th:only-of-type {\n        vertical-align: middle;\n    }\n\n    .dataframe tbody tr th {\n        vertical-align: top;\n    }\n\n    .dataframe thead th {\n        text-align: right;\n    }\n</style>\n<table border=\"1\" class=\"dataframe\">\n  <thead>\n    <tr style=\"text-align: right;\">\n      <th></th>\n      <th>Sales</th>\n      <th>Seasonal first diff.</th>\n      <th>Sales first diff.</th>\n    </tr>\n    <tr>\n      <th>Month</th>\n      <th></th>\n      <th></th>\n      <th></th>\n    </tr>\n  </thead>\n  <tbody>\n    <tr>\n      <th>2019-01-01</th>\n      <td>6.116698e+08</td>\n      <td>NaN</td>\n      <td>NaN</td>\n    </tr>\n    <tr>\n      <th>2019-02-01</th>\n      <td>6.254852e+08</td>\n      <td>NaN</td>\n      <td>1.381540e+07</td>\n    </tr>\n    <tr>\n      <th>2019-03-01</th>\n      <td>7.278651e+08</td>\n      <td>NaN</td>\n      <td>1.023798e+08</td>\n    </tr>\n    <tr>\n      <th>2019-04-01</th>\n      <td>6.499091e+08</td>\n      <td>NaN</td>\n      <td>-7.795598e+07</td>\n    </tr>\n    <tr>\n      <th>2019-05-01</th>\n      <td>6.118044e+08</td>\n      <td>NaN</td>\n      <td>-3.810472e+07</td>\n    </tr>\n  </tbody>\n</table>\n</div>"
     },
     "execution_count": 228,
     "metadata": {},
     "output_type": "execute_result"
    }
   ],
   "source": [
    "df.head()"
   ]
  },
  {
   "cell_type": "markdown",
   "id": "1a7ccda1",
   "metadata": {},
   "source": [
    "We shift by 12 month cycle"
   ]
  },
  {
   "cell_type": "code",
   "execution_count": 229,
   "id": "caaf2131",
   "metadata": {
    "scrolled": true
   },
   "outputs": [],
   "source": [
    "df['Seasonal first diff.'] = df['Sales'] - df['Sales'].shift(12)"
   ]
  },
  {
   "cell_type": "code",
   "execution_count": 230,
   "id": "6abd7f8b",
   "metadata": {},
   "outputs": [
    {
     "data": {
      "text/plain": "                   Sales  Seasonal first diff.  Sales first diff.\nMonth                                                            \n2019-01-01  6.116698e+08                   NaN                NaN\n2019-02-01  6.254852e+08                   NaN       1.381540e+07\n2019-03-01  7.278651e+08                   NaN       1.023798e+08\n2019-04-01  6.499091e+08                   NaN      -7.795598e+07\n2019-05-01  6.118044e+08                   NaN      -3.810472e+07",
      "text/html": "<div>\n<style scoped>\n    .dataframe tbody tr th:only-of-type {\n        vertical-align: middle;\n    }\n\n    .dataframe tbody tr th {\n        vertical-align: top;\n    }\n\n    .dataframe thead th {\n        text-align: right;\n    }\n</style>\n<table border=\"1\" class=\"dataframe\">\n  <thead>\n    <tr style=\"text-align: right;\">\n      <th></th>\n      <th>Sales</th>\n      <th>Seasonal first diff.</th>\n      <th>Sales first diff.</th>\n    </tr>\n    <tr>\n      <th>Month</th>\n      <th></th>\n      <th></th>\n      <th></th>\n    </tr>\n  </thead>\n  <tbody>\n    <tr>\n      <th>2019-01-01</th>\n      <td>6.116698e+08</td>\n      <td>NaN</td>\n      <td>NaN</td>\n    </tr>\n    <tr>\n      <th>2019-02-01</th>\n      <td>6.254852e+08</td>\n      <td>NaN</td>\n      <td>1.381540e+07</td>\n    </tr>\n    <tr>\n      <th>2019-03-01</th>\n      <td>7.278651e+08</td>\n      <td>NaN</td>\n      <td>1.023798e+08</td>\n    </tr>\n    <tr>\n      <th>2019-04-01</th>\n      <td>6.499091e+08</td>\n      <td>NaN</td>\n      <td>-7.795598e+07</td>\n    </tr>\n    <tr>\n      <th>2019-05-01</th>\n      <td>6.118044e+08</td>\n      <td>NaN</td>\n      <td>-3.810472e+07</td>\n    </tr>\n  </tbody>\n</table>\n</div>"
     },
     "execution_count": 230,
     "metadata": {},
     "output_type": "execute_result"
    }
   ],
   "source": [
    "df.head()"
   ]
  },
  {
   "cell_type": "code",
   "execution_count": 231,
   "id": "fb911ec7",
   "metadata": {
    "scrolled": false
   },
   "outputs": [
    {
     "name": "stdout",
     "output_type": "stream",
     "text": [
      "ADF test statistics : nan \n",
      "p-value : nan \n",
      "Lags used : 0 \n",
      "Number of obs used : 29 \n",
      "Weak evidence against null hypothesis, accept the null hypothesis and data is not stationary\n"
     ]
    }
   ],
   "source": [
    "adfuller_test(df['Seasonal first diff.'].dropna())"
   ]
  },
  {
   "cell_type": "markdown",
   "id": "816c438d",
   "metadata": {},
   "source": [
    "Now our data is stationary "
   ]
  },
  {
   "cell_type": "code",
   "execution_count": 232,
   "id": "90555cd0",
   "metadata": {
    "scrolled": true
   },
   "outputs": [
    {
     "data": {
      "text/plain": "<Axes: xlabel='Month'>"
     },
     "execution_count": 232,
     "metadata": {},
     "output_type": "execute_result"
    },
    {
     "data": {
      "text/plain": "<Figure size 640x480 with 1 Axes>",
      "image/png": "[encoded data removed]"
     },
     "metadata": {},
     "output_type": "display_data"
    }
   ],
   "source": [
    "df['Seasonal first diff.'].plot()"
   ]
  },
  {
   "cell_type": "markdown",
   "id": "4ec29a00",
   "metadata": {},
   "source": [
    "## ARIMA"
   ]
  },
  {
   "cell_type": "markdown",
   "id": "23658eb2",
   "metadata": {},
   "source": [
    "ARIMA is an acronym for “autoregressive integrated moving average.” It's a model used in statistics and econometrics to measure events that happen over a period of time. The model is used to understand past data or predict future data in a series."
   ]
  },
  {
   "cell_type": "code",
   "execution_count": 233,
   "id": "45c2875d",
   "metadata": {},
   "outputs": [
    {
     "data": {
      "text/plain": "                   Sales  Seasonal first diff.  Sales first diff.\nMonth                                                            \n2019-01-01  6.116698e+08                   NaN                NaN\n2019-02-01  6.254852e+08                   NaN       1.381540e+07\n2019-03-01  7.278651e+08                   NaN       1.023798e+08\n2019-04-01  6.499091e+08                   NaN      -7.795598e+07\n2019-05-01  6.118044e+08                   NaN      -3.810472e+07\n2019-06-01  5.750736e+08                   NaN      -3.673080e+07\n2019-07-01  5.511557e+08                   NaN      -2.391781e+07\n2019-08-01  5.745834e+08                   NaN       2.342769e+07\n2019-09-01  5.596533e+08                   NaN      -1.493012e+07\n2019-10-01  5.735714e+08                   NaN       1.391809e+07\n2019-11-01  6.270833e+08                   NaN       5.351190e+07\n2019-12-01  8.893998e+08                   NaN       2.623165e+08\n2020-01-01  6.116698e+08                   0.0      -2.777300e+08\n2020-02-01  6.254852e+08                   0.0       1.381540e+07\n2020-03-01  7.278651e+08                   0.0       1.023798e+08",
      "text/html": "<div>\n<style scoped>\n    .dataframe tbody tr th:only-of-type {\n        vertical-align: middle;\n    }\n\n    .dataframe tbody tr th {\n        vertical-align: top;\n    }\n\n    .dataframe thead th {\n        text-align: right;\n    }\n</style>\n<table border=\"1\" class=\"dataframe\">\n  <thead>\n    <tr style=\"text-align: right;\">\n      <th></th>\n      <th>Sales</th>\n      <th>Seasonal first diff.</th>\n      <th>Sales first diff.</th>\n    </tr>\n    <tr>\n      <th>Month</th>\n      <th></th>\n      <th></th>\n      <th></th>\n    </tr>\n  </thead>\n  <tbody>\n    <tr>\n      <th>2019-01-01</th>\n      <td>6.116698e+08</td>\n      <td>NaN</td>\n      <td>NaN</td>\n    </tr>\n    <tr>\n      <th>2019-02-01</th>\n      <td>6.254852e+08</td>\n      <td>NaN</td>\n      <td>1.381540e+07</td>\n    </tr>\n    <tr>\n      <th>2019-03-01</th>\n      <td>7.278651e+08</td>\n      <td>NaN</td>\n      <td>1.023798e+08</td>\n    </tr>\n    <tr>\n      <th>2019-04-01</th>\n      <td>6.499091e+08</td>\n      <td>NaN</td>\n      <td>-7.795598e+07</td>\n    </tr>\n    <tr>\n      <th>2019-05-01</th>\n      <td>6.118044e+08</td>\n      <td>NaN</td>\n      <td>-3.810472e+07</td>\n    </tr>\n    <tr>\n      <th>2019-06-01</th>\n      <td>5.750736e+08</td>\n      <td>NaN</td>\n      <td>-3.673080e+07</td>\n    </tr>\n    <tr>\n      <th>2019-07-01</th>\n      <td>5.511557e+08</td>\n      <td>NaN</td>\n      <td>-2.391781e+07</td>\n    </tr>\n    <tr>\n      <th>2019-08-01</th>\n      <td>5.745834e+08</td>\n      <td>NaN</td>\n      <td>2.342769e+07</td>\n    </tr>\n    <tr>\n      <th>2019-09-01</th>\n      <td>5.596533e+08</td>\n      <td>NaN</td>\n      <td>-1.493012e+07</td>\n    </tr>\n    <tr>\n      <th>2019-10-01</th>\n      <td>5.735714e+08</td>\n      <td>NaN</td>\n      <td>1.391809e+07</td>\n    </tr>\n    <tr>\n      <th>2019-11-01</th>\n      <td>6.270833e+08</td>\n      <td>NaN</td>\n      <td>5.351190e+07</td>\n    </tr>\n    <tr>\n      <th>2019-12-01</th>\n      <td>8.893998e+08</td>\n      <td>NaN</td>\n      <td>2.623165e+08</td>\n    </tr>\n    <tr>\n      <th>2020-01-01</th>\n      <td>6.116698e+08</td>\n      <td>0.0</td>\n      <td>-2.777300e+08</td>\n    </tr>\n    <tr>\n      <th>2020-02-01</th>\n      <td>6.254852e+08</td>\n      <td>0.0</td>\n      <td>1.381540e+07</td>\n    </tr>\n    <tr>\n      <th>2020-03-01</th>\n      <td>7.278651e+08</td>\n      <td>0.0</td>\n      <td>1.023798e+08</td>\n    </tr>\n  </tbody>\n</table>\n</div>"
     },
     "execution_count": 233,
     "metadata": {},
     "output_type": "execute_result"
    }
   ],
   "source": [
    "df.head(15)"
   ]
  },
  {
   "cell_type": "code",
   "execution_count": 243,
   "id": "18c08d70",
   "metadata": {},
   "outputs": [
    {
     "data": {
      "text/plain": "<Figure size 1200x800 with 2 Axes>",
      "image/png": "[encoded data removed]"
     },
     "metadata": {},
     "output_type": "display_data"
    }
   ],
   "source": [
    "fig = plt.figure(figsize = (12,8))\n",
    "ax1 = fig.add_subplot(211)\n",
    "fig = plot_acf(df['Seasonal first diff.'].iloc[1:], lags=13, ax=ax1)\n",
    "\n",
    "ax2 = fig.add_subplot(212)\n",
    "fig = plot_pacf(df['Seasonal first diff.'].iloc[1:], lags=13, ax=ax2)"
   ]
  },
  {
   "cell_type": "code",
   "execution_count": 237,
   "id": "f6af53da",
   "metadata": {},
   "outputs": [
    {
     "ename": "NotImplementedError",
     "evalue": "\nstatsmodels.tsa.arima_model.ARMA and statsmodels.tsa.arima_model.ARIMA have\nbeen removed in favor of statsmodels.tsa.arima.model.ARIMA (note the .\nbetween arima and model) and statsmodels.tsa.SARIMAX.\n\nstatsmodels.tsa.arima.model.ARIMA makes use of the statespace framework and\nis both well tested and maintained. It also offers alternative specialized\nparameter estimators.\n",
     "output_type": "error",
     "traceback": [
      "\u001B[1;31m---------------------------------------------------------------------------\u001B[0m",
      "\u001B[1;31mNotImplementedError\u001B[0m                       Traceback (most recent call last)",
      "Cell \u001B[1;32mIn[237], line 1\u001B[0m\n\u001B[1;32m----> 1\u001B[0m model \u001B[38;5;241m=\u001B[39m \u001B[43mARIMA\u001B[49m\u001B[43m(\u001B[49m\u001B[43mdf\u001B[49m\u001B[43m[\u001B[49m\u001B[38;5;124;43m'\u001B[39;49m\u001B[38;5;124;43mSales\u001B[39;49m\u001B[38;5;124;43m'\u001B[39;49m\u001B[43m]\u001B[49m\u001B[43m,\u001B[49m\u001B[43m \u001B[49m\u001B[43morder\u001B[49m\u001B[38;5;241;43m=\u001B[39;49m\u001B[43m(\u001B[49m\u001B[38;5;241;43m1\u001B[39;49m\u001B[43m,\u001B[49m\u001B[38;5;241;43m1\u001B[39;49m\u001B[43m,\u001B[49m\u001B[38;5;241;43m1\u001B[39;49m\u001B[43m)\u001B[49m\u001B[43m)\u001B[49m\n",
      "File \u001B[1;32mE:\\All_Python_Frameworks\\FORECAST_TEST\\venv\\lib\\site-packages\\statsmodels\\tsa\\arima_model.py:45\u001B[0m, in \u001B[0;36mARIMA.__init__\u001B[1;34m(self, *args, **kwargs)\u001B[0m\n\u001B[0;32m     44\u001B[0m \u001B[38;5;28;01mdef\u001B[39;00m \u001B[38;5;21m__init__\u001B[39m(\u001B[38;5;28mself\u001B[39m, \u001B[38;5;241m*\u001B[39margs, \u001B[38;5;241m*\u001B[39m\u001B[38;5;241m*\u001B[39mkwargs):\n\u001B[1;32m---> 45\u001B[0m     \u001B[38;5;28msuper\u001B[39m()\u001B[38;5;241m.\u001B[39m\u001B[38;5;21m__init__\u001B[39m(\u001B[38;5;241m*\u001B[39margs, \u001B[38;5;241m*\u001B[39m\u001B[38;5;241m*\u001B[39mkwargs)\n",
      "File \u001B[1;32mE:\\All_Python_Frameworks\\FORECAST_TEST\\venv\\lib\\site-packages\\statsmodels\\tsa\\arima_model.py:29\u001B[0m, in \u001B[0;36mARMA.__init__\u001B[1;34m(self, *args, **kwargs)\u001B[0m\n\u001B[0;32m     28\u001B[0m \u001B[38;5;28;01mdef\u001B[39;00m \u001B[38;5;21m__init__\u001B[39m(\u001B[38;5;28mself\u001B[39m, \u001B[38;5;241m*\u001B[39margs, \u001B[38;5;241m*\u001B[39m\u001B[38;5;241m*\u001B[39mkwargs):\n\u001B[1;32m---> 29\u001B[0m     \u001B[38;5;28;01mraise\u001B[39;00m \u001B[38;5;167;01mNotImplementedError\u001B[39;00m(ARIMA_DEPRECATION_ERROR)\n",
      "\u001B[1;31mNotImplementedError\u001B[0m: \nstatsmodels.tsa.arima_model.ARMA and statsmodels.tsa.arima_model.ARIMA have\nbeen removed in favor of statsmodels.tsa.arima.model.ARIMA (note the .\nbetween arima and model) and statsmodels.tsa.SARIMAX.\n\nstatsmodels.tsa.arima.model.ARIMA makes use of the statespace framework and\nis both well tested and maintained. It also offers alternative specialized\nparameter estimators.\n"
     ]
    }
   ],
   "source": [
    "model = ARIMA(df['Sales'], order=(1,1,1))"
   ]
  },
  {
   "cell_type": "code",
   "execution_count": null,
   "id": "e11e2784",
   "metadata": {},
   "outputs": [],
   "source": [
    "model = model.fit()"
   ]
  },
  {
   "cell_type": "code",
   "execution_count": 236,
   "id": "459ad3af",
   "metadata": {},
   "outputs": [
    {
     "ename": "AttributeError",
     "evalue": "'SARIMAX' object has no attribute 'summary'",
     "output_type": "error",
     "traceback": [
      "\u001B[1;31m---------------------------------------------------------------------------\u001B[0m",
      "\u001B[1;31mAttributeError\u001B[0m                            Traceback (most recent call last)",
      "Cell \u001B[1;32mIn[236], line 1\u001B[0m\n\u001B[1;32m----> 1\u001B[0m \u001B[43mmodel\u001B[49m\u001B[38;5;241;43m.\u001B[39;49m\u001B[43msummary\u001B[49m()\n",
      "\u001B[1;31mAttributeError\u001B[0m: 'SARIMAX' object has no attribute 'summary'"
     ]
    }
   ],
   "source": [
    "model.summary()"
   ]
  },
  {
   "cell_type": "code",
   "execution_count": null,
   "id": "2e786166",
   "metadata": {},
   "outputs": [],
   "source": [
    "df.shape"
   ]
  },
  {
   "cell_type": "code",
   "execution_count": null,
   "id": "a140ecbe",
   "metadata": {},
   "outputs": [],
   "source": [
    "df['forecast'] = model.predict(start=90, end=103, dynamic=True)"
   ]
  },
  {
   "cell_type": "code",
   "execution_count": null,
   "id": "c09eb426",
   "metadata": {},
   "outputs": [],
   "source": [
    "df.tail(20)"
   ]
  },
  {
   "cell_type": "code",
   "execution_count": null,
   "id": "07c5cc16",
   "metadata": {},
   "outputs": [],
   "source": [
    "df[['Sales', 'forecast']].plot(figsize=(12,8))"
   ]
  },
  {
   "cell_type": "markdown",
   "id": "74b60532",
   "metadata": {},
   "source": [
    "As seen above, ARIMA did not predict it even a little bit closer. The reason behind this is when you have seasonal data ARIMA is not suitable. We will use SARIMAX which is Seasonal ARIMA, it is an extension of ARIMA."
   ]
  },
  {
   "cell_type": "markdown",
   "id": "1e120d73",
   "metadata": {},
   "source": [
    "## SARIMAX"
   ]
  },
  {
   "cell_type": "markdown",
   "id": "5d8e921a",
   "metadata": {},
   "source": [
    "SARIMAX is used on data sets that have seasonal cycles. The difference between ARIMA and SARIMAX is the seasonality and exogenous factors (seasonality and regular ARIMA don't mix well)."
   ]
  },
  {
   "cell_type": "code",
   "execution_count": null,
   "id": "10fc87d2",
   "metadata": {},
   "outputs": [],
   "source": [
    "model = sm.tsa.statespace.SARIMAX(df['Sales'], order=(1,1,1), seasonal_order=(1,1,1,12))"
   ]
  },
  {
   "cell_type": "code",
   "execution_count": null,
   "id": "9d180e6e",
   "metadata": {},
   "outputs": [],
   "source": [
    "results = model.fit()"
   ]
  },
  {
   "cell_type": "code",
   "execution_count": null,
   "id": "8d37a29a",
   "metadata": {},
   "outputs": [],
   "source": [
    "df['forecast_SARIMAX'] = results.predict(start=40, end=45, dynamic=True)"
   ]
  },
  {
   "cell_type": "code",
   "execution_count": null,
   "id": "5aaa9c38",
   "metadata": {},
   "outputs": [],
   "source": [
    "df.tail(20)"
   ]
  },
  {
   "cell_type": "code",
   "execution_count": null,
   "id": "dce7291d",
   "metadata": {},
   "outputs": [],
   "source": [
    "df[['Sales','forecast_SARIMAX']].plot(figsize=(12,10))"
   ]
  },
  {
   "cell_type": "markdown",
   "id": "7772c66b",
   "metadata": {},
   "source": [
    "As seen above with the plot, SARIMAX was way better and closer to reality than ARIMA to predict sales."
   ]
  },
  {
   "cell_type": "markdown",
   "id": "3dcecfd5",
   "metadata": {},
   "source": [
    "## Making Predictions on Future Data with SARIMAX"
   ]
  },
  {
   "cell_type": "markdown",
   "id": "48b83471",
   "metadata": {},
   "source": [
    "Now we can use SARIMAX to forecast future data."
   ]
  },
  {
   "cell_type": "code",
   "execution_count": null,
   "id": "bac383a2",
   "metadata": {
    "scrolled": false
   },
   "outputs": [],
   "source": [
    "future_dates = [df.index[-1] + DateOffset(months=x)for x in range(0,4)]"
   ]
  },
  {
   "cell_type": "code",
   "execution_count": null,
   "id": "6edb6b2c",
   "metadata": {},
   "outputs": [],
   "source": [
    "future_dates[1:]"
   ]
  },
  {
   "cell_type": "code",
   "execution_count": null,
   "id": "4aefdc11",
   "metadata": {},
   "outputs": [],
   "source": [
    "future_dataset = pd.DataFrame(index = future_dates[1:], columns = df.columns)"
   ]
  },
  {
   "cell_type": "code",
   "execution_count": null,
   "id": "864ee469",
   "metadata": {},
   "outputs": [],
   "source": [
    "future_dataset.tail()"
   ]
  },
  {
   "cell_type": "code",
   "execution_count": null,
   "id": "4f146e6b",
   "metadata": {},
   "outputs": [],
   "source": [
    "future_df = pd.concat([df, future_dataset])"
   ]
  },
  {
   "cell_type": "code",
   "execution_count": null,
   "id": "0bff8bb0",
   "metadata": {},
   "outputs": [],
   "source": [
    "future_df.shape"
   ]
  },
  {
   "cell_type": "code",
   "execution_count": null,
   "id": "0601fad8",
   "metadata": {},
   "outputs": [],
   "source": [
    "future_df['forecast_SARIMAX2'] = results.predict(start=41, end=89, dynamic=True)"
   ]
  },
  {
   "cell_type": "code",
   "execution_count": null,
   "id": "26c2a7c4",
   "metadata": {
    "scrolled": false
   },
   "outputs": [],
   "source": [
    "future_df[['Sales', 'forecast_SARIMAX2']].plot(figsize=(12,8))"
   ]
  },
  {
   "cell_type": "markdown",
   "id": "8cd5cb26",
   "metadata": {},
   "source": [
    "The SARIMAX algorithm estimated the champagne sales for the years 1973 and 1974 as seen in the graph above."
   ]
  },
  {
   "cell_type": "code",
   "execution_count": null,
   "outputs": [],
   "source": [],
   "metadata": {
    "collapsed": false
   }
  }
 ],
 "metadata": {
  "kernelspec": {
   "display_name": "Python 3",
   "language": "python",
   "name": "python3"
  },
  "language_info": {
   "codemirror_mode": {
    "name": "ipython",
    "version": 3
   },
   "file_extension": ".py",
   "mimetype": "text/x-python",
   "name": "python",
   "nbconvert_exporter": "python",
   "pygments_lexer": "ipython3",
   "version": "3.8.8"
  }
 },
 "nbformat": 4,
 "nbformat_minor": 5
}
