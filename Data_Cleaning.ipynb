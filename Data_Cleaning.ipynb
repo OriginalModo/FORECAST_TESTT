{
 "cells": [
  {
   "cell_type": "code",
   "execution_count": 53,
   "outputs": [],
   "source": [
    "%matplotlib inline\n",
    "from matplotlib import pyplot as plt\n",
    "import pandas as pd\n",
    "from pandas.plotting import register_matplotlib_converters\n",
    "register_matplotlib_converters()\n",
    "import numpy as np\n",
    "import seaborn as sn\n",
    "import warnings\n",
    "warnings.filterwarnings('ignore')\n",
    "from statsmodels.tsa.seasonal import seasonal_decompose\n",
    "from statsmodels.tsa.holtwinters import ExponentialSmoothing\n",
    "from statsmodels.tsa.stattools import adfuller\n",
    "from statsmodels.graphics.tsaplots import plot_acf, plot_pacf\n",
    "from statsmodels.tsa.arima_model import ARIMA\n",
    "from statsmodels.tsa.statespace.sarimax import SARIMAX\n",
    "from sklearn.linear_model import LinearRegression\n",
    "from sklearn.feature_selection import SelectKBest\n",
    "from sklearn.feature_selection import f_regression"
   ],
   "metadata": {
    "collapsed": false
   }
  },
  {
   "cell_type": "code",
   "execution_count": 91,
   "outputs": [
    {
     "data": {
      "text/plain": "                      SALE_DT    STORE        SALES\n0     2019-01-01 00:00:00.000  Store_a         0.00\n1     2019-01-02 00:00:00.000  Store_a  16553359.58\n2     2019-01-03 00:00:00.000  Store_a  17956624.58\n3     2019-01-04 00:00:00.000  Store_a  19440652.23\n4     2019-01-05 00:00:00.000  Store_a  20677704.73\n...                       ...      ...          ...\n1272  2022-06-26 00:00:00.000  Store_a  17243093.78\n1273  2022-06-27 00:00:00.000  Store_a  13538082.87\n1274  2022-06-28 00:00:00.000  Store_a  13565274.83\n1275  2022-06-29 00:00:00.000  Store_a  14959597.22\n1276  2022-06-30 00:00:00.000  Store_a  15852066.23\n\n[1277 rows x 3 columns]",
      "text/html": "<div>\n<style scoped>\n    .dataframe tbody tr th:only-of-type {\n        vertical-align: middle;\n    }\n\n    .dataframe tbody tr th {\n        vertical-align: top;\n    }\n\n    .dataframe thead th {\n        text-align: right;\n    }\n</style>\n<table border=\"1\" class=\"dataframe\">\n  <thead>\n    <tr style=\"text-align: right;\">\n      <th></th>\n      <th>SALE_DT</th>\n      <th>STORE</th>\n      <th>SALES</th>\n    </tr>\n  </thead>\n  <tbody>\n    <tr>\n      <th>0</th>\n      <td>2019-01-01 00:00:00.000</td>\n      <td>Store_a</td>\n      <td>0.00</td>\n    </tr>\n    <tr>\n      <th>1</th>\n      <td>2019-01-02 00:00:00.000</td>\n      <td>Store_a</td>\n      <td>16553359.58</td>\n    </tr>\n    <tr>\n      <th>2</th>\n      <td>2019-01-03 00:00:00.000</td>\n      <td>Store_a</td>\n      <td>17956624.58</td>\n    </tr>\n    <tr>\n      <th>3</th>\n      <td>2019-01-04 00:00:00.000</td>\n      <td>Store_a</td>\n      <td>19440652.23</td>\n    </tr>\n    <tr>\n      <th>4</th>\n      <td>2019-01-05 00:00:00.000</td>\n      <td>Store_a</td>\n      <td>20677704.73</td>\n    </tr>\n    <tr>\n      <th>...</th>\n      <td>...</td>\n      <td>...</td>\n      <td>...</td>\n    </tr>\n    <tr>\n      <th>1272</th>\n      <td>2022-06-26 00:00:00.000</td>\n      <td>Store_a</td>\n      <td>17243093.78</td>\n    </tr>\n    <tr>\n      <th>1273</th>\n      <td>2022-06-27 00:00:00.000</td>\n      <td>Store_a</td>\n      <td>13538082.87</td>\n    </tr>\n    <tr>\n      <th>1274</th>\n      <td>2022-06-28 00:00:00.000</td>\n      <td>Store_a</td>\n      <td>13565274.83</td>\n    </tr>\n    <tr>\n      <th>1275</th>\n      <td>2022-06-29 00:00:00.000</td>\n      <td>Store_a</td>\n      <td>14959597.22</td>\n    </tr>\n    <tr>\n      <th>1276</th>\n      <td>2022-06-30 00:00:00.000</td>\n      <td>Store_a</td>\n      <td>15852066.23</td>\n    </tr>\n  </tbody>\n</table>\n<p>1277 rows × 3 columns</p>\n</div>"
     },
     "execution_count": 91,
     "metadata": {},
     "output_type": "execute_result"
    }
   ],
   "source": [
    "df = pd.read_csv('data.csv')\n",
    "df"
   ],
   "metadata": {
    "collapsed": false
   }
  },
  {
   "cell_type": "code",
   "execution_count": 92,
   "outputs": [
    {
     "data": {
      "text/plain": "SALE_DT    0\nSTORE      0\nSALES      0\ndtype: int64"
     },
     "execution_count": 92,
     "metadata": {},
     "output_type": "execute_result"
    }
   ],
   "source": [
    "df.isnull().sum()"
   ],
   "metadata": {
    "collapsed": false
   }
  },
  {
   "cell_type": "code",
   "execution_count": 102,
   "outputs": [
    {
     "data": {
      "text/plain": "        date    store        sales\n0 2019-01-01  Store_a         0.00\n1 2019-01-02  Store_a  16553359.58\n2 2019-01-03  Store_a  17956624.58\n3 2019-01-04  Store_a  19440652.23\n4 2019-01-05  Store_a  20677704.73",
      "text/html": "<div>\n<style scoped>\n    .dataframe tbody tr th:only-of-type {\n        vertical-align: middle;\n    }\n\n    .dataframe tbody tr th {\n        vertical-align: top;\n    }\n\n    .dataframe thead th {\n        text-align: right;\n    }\n</style>\n<table border=\"1\" class=\"dataframe\">\n  <thead>\n    <tr style=\"text-align: right;\">\n      <th></th>\n      <th>date</th>\n      <th>store</th>\n      <th>sales</th>\n    </tr>\n  </thead>\n  <tbody>\n    <tr>\n      <th>0</th>\n      <td>2019-01-01</td>\n      <td>Store_a</td>\n      <td>0.00</td>\n    </tr>\n    <tr>\n      <th>1</th>\n      <td>2019-01-02</td>\n      <td>Store_a</td>\n      <td>16553359.58</td>\n    </tr>\n    <tr>\n      <th>2</th>\n      <td>2019-01-03</td>\n      <td>Store_a</td>\n      <td>17956624.58</td>\n    </tr>\n    <tr>\n      <th>3</th>\n      <td>2019-01-04</td>\n      <td>Store_a</td>\n      <td>19440652.23</td>\n    </tr>\n    <tr>\n      <th>4</th>\n      <td>2019-01-05</td>\n      <td>Store_a</td>\n      <td>20677704.73</td>\n    </tr>\n  </tbody>\n</table>\n</div>"
     },
     "execution_count": 102,
     "metadata": {},
     "output_type": "execute_result"
    }
   ],
   "source": [
    "df.columns = ['date', 'store','sales']\n",
    "df.head()"
   ],
   "metadata": {
    "collapsed": false
   }
  },
  {
   "cell_type": "code",
   "execution_count": 121,
   "outputs": [
    {
     "data": {
      "text/plain": "           date    store        sales  year  month  day  weekday\n0    2019-01-01  Store_a         0.00  2019      1    1        1\n1    2019-01-02  Store_a  16553359.58  2019      1    2        2\n2    2019-01-03  Store_a  17956624.58  2019      1    3        3\n3    2019-01-04  Store_a  19440652.23  2019      1    4        4\n4    2019-01-05  Store_a  20677704.73  2019      1    5        5\n...         ...      ...          ...   ...    ...  ...      ...\n1272 2022-06-26  Store_a  17243093.78  2022      6   26        6\n1273 2022-06-27  Store_a  13538082.87  2022      6   27        7\n1274 2022-06-28  Store_a  13565274.83  2022      6   28        1\n1275 2022-06-29  Store_a  14959597.22  2022      6   29        2\n1276 2022-06-30  Store_a  15852066.23  2022      6   30        3\n\n[1277 rows x 7 columns]",
      "text/html": "<div>\n<style scoped>\n    .dataframe tbody tr th:only-of-type {\n        vertical-align: middle;\n    }\n\n    .dataframe tbody tr th {\n        vertical-align: top;\n    }\n\n    .dataframe thead th {\n        text-align: right;\n    }\n</style>\n<table border=\"1\" class=\"dataframe\">\n  <thead>\n    <tr style=\"text-align: right;\">\n      <th></th>\n      <th>date</th>\n      <th>store</th>\n      <th>sales</th>\n      <th>year</th>\n      <th>month</th>\n      <th>day</th>\n      <th>weekday</th>\n    </tr>\n  </thead>\n  <tbody>\n    <tr>\n      <th>0</th>\n      <td>2019-01-01</td>\n      <td>Store_a</td>\n      <td>0.00</td>\n      <td>2019</td>\n      <td>1</td>\n      <td>1</td>\n      <td>1</td>\n    </tr>\n    <tr>\n      <th>1</th>\n      <td>2019-01-02</td>\n      <td>Store_a</td>\n      <td>16553359.58</td>\n      <td>2019</td>\n      <td>1</td>\n      <td>2</td>\n      <td>2</td>\n    </tr>\n    <tr>\n      <th>2</th>\n      <td>2019-01-03</td>\n      <td>Store_a</td>\n      <td>17956624.58</td>\n      <td>2019</td>\n      <td>1</td>\n      <td>3</td>\n      <td>3</td>\n    </tr>\n    <tr>\n      <th>3</th>\n      <td>2019-01-04</td>\n      <td>Store_a</td>\n      <td>19440652.23</td>\n      <td>2019</td>\n      <td>1</td>\n      <td>4</td>\n      <td>4</td>\n    </tr>\n    <tr>\n      <th>4</th>\n      <td>2019-01-05</td>\n      <td>Store_a</td>\n      <td>20677704.73</td>\n      <td>2019</td>\n      <td>1</td>\n      <td>5</td>\n      <td>5</td>\n    </tr>\n    <tr>\n      <th>...</th>\n      <td>...</td>\n      <td>...</td>\n      <td>...</td>\n      <td>...</td>\n      <td>...</td>\n      <td>...</td>\n      <td>...</td>\n    </tr>\n    <tr>\n      <th>1272</th>\n      <td>2022-06-26</td>\n      <td>Store_a</td>\n      <td>17243093.78</td>\n      <td>2022</td>\n      <td>6</td>\n      <td>26</td>\n      <td>6</td>\n    </tr>\n    <tr>\n      <th>1273</th>\n      <td>2022-06-27</td>\n      <td>Store_a</td>\n      <td>13538082.87</td>\n      <td>2022</td>\n      <td>6</td>\n      <td>27</td>\n      <td>7</td>\n    </tr>\n    <tr>\n      <th>1274</th>\n      <td>2022-06-28</td>\n      <td>Store_a</td>\n      <td>13565274.83</td>\n      <td>2022</td>\n      <td>6</td>\n      <td>28</td>\n      <td>1</td>\n    </tr>\n    <tr>\n      <th>1275</th>\n      <td>2022-06-29</td>\n      <td>Store_a</td>\n      <td>14959597.22</td>\n      <td>2022</td>\n      <td>6</td>\n      <td>29</td>\n      <td>2</td>\n    </tr>\n    <tr>\n      <th>1276</th>\n      <td>2022-06-30</td>\n      <td>Store_a</td>\n      <td>15852066.23</td>\n      <td>2022</td>\n      <td>6</td>\n      <td>30</td>\n      <td>3</td>\n    </tr>\n  </tbody>\n</table>\n<p>1277 rows × 7 columns</p>\n</div>"
     },
     "execution_count": 121,
     "metadata": {},
     "output_type": "execute_result"
    }
   ],
   "source": [
    "# Filter records for store 1 and item 1 -> to be able to scale to other items in the future\n",
    "# df = df[df['store'] == 1]\n",
    "# df = df[df['item'] == 1]\n",
    "\n",
    "df['date'] = pd.to_datetime(df['date'], format='%Y-%m-%d') # convert date column to datatime object\n",
    "\n",
    "# # Create Date-related Features to be used for EDA and Supervised ML: Regression\n",
    "df['year'] = df['date'].dt.year\n",
    "df['month'] = df['date'].dt.month\n",
    "df['day'] = df['date'].dt.day\n",
    "df['weekday'] = df['date'].dt.weekday\n",
    "df['weekday'] = np.where(df.weekday == 0, 7, df.weekday)\n",
    "#\n",
    "# # Split the series to predict the last 3 months of 2017\n",
    "temp_df = df.set_index('date')\n",
    "train_df = temp_df.loc[:'2022-02-01'].reset_index(drop=False)\n",
    "test_df = temp_df.loc['2022-10-01':].reset_index(drop=False)\n",
    "#\n",
    "df"
   ],
   "metadata": {
    "collapsed": false
   }
  },
  {
   "cell_type": "code",
   "execution_count": 122,
   "outputs": [
    {
     "data": {
      "text/plain": "        date    store        sales  year  month  day  weekday\n0 2019-01-01  Store_a         0.00  2019      1    1        1\n1 2019-01-02  Store_a  16553359.58  2019      1    2        2\n2 2019-01-03  Store_a  17956624.58  2019      1    3        3\n3 2019-01-04  Store_a  19440652.23  2019      1    4        4\n4 2019-01-05  Store_a  20677704.73  2019      1    5        5",
      "text/html": "<div>\n<style scoped>\n    .dataframe tbody tr th:only-of-type {\n        vertical-align: middle;\n    }\n\n    .dataframe tbody tr th {\n        vertical-align: top;\n    }\n\n    .dataframe thead th {\n        text-align: right;\n    }\n</style>\n<table border=\"1\" class=\"dataframe\">\n  <thead>\n    <tr style=\"text-align: right;\">\n      <th></th>\n      <th>date</th>\n      <th>store</th>\n      <th>sales</th>\n      <th>year</th>\n      <th>month</th>\n      <th>day</th>\n      <th>weekday</th>\n    </tr>\n  </thead>\n  <tbody>\n    <tr>\n      <th>0</th>\n      <td>2019-01-01</td>\n      <td>Store_a</td>\n      <td>0.00</td>\n      <td>2019</td>\n      <td>1</td>\n      <td>1</td>\n      <td>1</td>\n    </tr>\n    <tr>\n      <th>1</th>\n      <td>2019-01-02</td>\n      <td>Store_a</td>\n      <td>16553359.58</td>\n      <td>2019</td>\n      <td>1</td>\n      <td>2</td>\n      <td>2</td>\n    </tr>\n    <tr>\n      <th>2</th>\n      <td>2019-01-03</td>\n      <td>Store_a</td>\n      <td>17956624.58</td>\n      <td>2019</td>\n      <td>1</td>\n      <td>3</td>\n      <td>3</td>\n    </tr>\n    <tr>\n      <th>3</th>\n      <td>2019-01-04</td>\n      <td>Store_a</td>\n      <td>19440652.23</td>\n      <td>2019</td>\n      <td>1</td>\n      <td>4</td>\n      <td>4</td>\n    </tr>\n    <tr>\n      <th>4</th>\n      <td>2019-01-05</td>\n      <td>Store_a</td>\n      <td>20677704.73</td>\n      <td>2019</td>\n      <td>1</td>\n      <td>5</td>\n      <td>5</td>\n    </tr>\n  </tbody>\n</table>\n</div>"
     },
     "execution_count": 122,
     "metadata": {},
     "output_type": "execute_result"
    }
   ],
   "source": [
    "train_df.head()"
   ],
   "metadata": {
    "collapsed": false
   }
  },
  {
   "cell_type": "code",
   "execution_count": 108,
   "outputs": [
    {
     "data": {
      "text/plain": "        date    store        sales  year  month  day  weekday\n0 2019-01-01  Store_a         0.00  2019      1    1        1\n1 2019-01-02  Store_a  16553359.58  2019      1    2        2\n2 2019-01-03  Store_a  17956624.58  2019      1    3        3\n3 2019-01-04  Store_a  19440652.23  2019      1    4        4\n4 2019-01-05  Store_a  20677704.73  2019      1    5        5",
      "text/html": "<div>\n<style scoped>\n    .dataframe tbody tr th:only-of-type {\n        vertical-align: middle;\n    }\n\n    .dataframe tbody tr th {\n        vertical-align: top;\n    }\n\n    .dataframe thead th {\n        text-align: right;\n    }\n</style>\n<table border=\"1\" class=\"dataframe\">\n  <thead>\n    <tr style=\"text-align: right;\">\n      <th></th>\n      <th>date</th>\n      <th>store</th>\n      <th>sales</th>\n      <th>year</th>\n      <th>month</th>\n      <th>day</th>\n      <th>weekday</th>\n    </tr>\n  </thead>\n  <tbody>\n    <tr>\n      <th>0</th>\n      <td>2019-01-01</td>\n      <td>Store_a</td>\n      <td>0.00</td>\n      <td>2019</td>\n      <td>1</td>\n      <td>1</td>\n      <td>1</td>\n    </tr>\n    <tr>\n      <th>1</th>\n      <td>2019-01-02</td>\n      <td>Store_a</td>\n      <td>16553359.58</td>\n      <td>2019</td>\n      <td>1</td>\n      <td>2</td>\n      <td>2</td>\n    </tr>\n    <tr>\n      <th>2</th>\n      <td>2019-01-03</td>\n      <td>Store_a</td>\n      <td>17956624.58</td>\n      <td>2019</td>\n      <td>1</td>\n      <td>3</td>\n      <td>3</td>\n    </tr>\n    <tr>\n      <th>3</th>\n      <td>2019-01-04</td>\n      <td>Store_a</td>\n      <td>19440652.23</td>\n      <td>2019</td>\n      <td>1</td>\n      <td>4</td>\n      <td>4</td>\n    </tr>\n    <tr>\n      <th>4</th>\n      <td>2019-01-05</td>\n      <td>Store_a</td>\n      <td>20677704.73</td>\n      <td>2019</td>\n      <td>1</td>\n      <td>5</td>\n      <td>5</td>\n    </tr>\n  </tbody>\n</table>\n</div>"
     },
     "execution_count": 108,
     "metadata": {},
     "output_type": "execute_result"
    }
   ],
   "source": [
    "test_df.head()"
   ],
   "metadata": {
    "collapsed": false
   }
  },
  {
   "cell_type": "code",
   "execution_count": 63,
   "outputs": [
    {
     "ename": "ValueError",
     "evalue": "min() arg is an empty sequence",
     "output_type": "error",
     "traceback": [
      "\u001B[1;31m---------------------------------------------------------------------------\u001B[0m",
      "\u001B[1;31mValueError\u001B[0m                                Traceback (most recent call last)",
      "Cell \u001B[1;32mIn[63], line 1\u001B[0m\n\u001B[1;32m----> 1\u001B[0m plot \u001B[38;5;241m=\u001B[39m \u001B[43msn\u001B[49m\u001B[38;5;241;43m.\u001B[39;49m\u001B[43mboxplot\u001B[49m\u001B[43m(\u001B[49m\u001B[43mx\u001B[49m\u001B[38;5;241;43m=\u001B[39;49m\u001B[38;5;124;43m'\u001B[39;49m\u001B[38;5;124;43mweekday\u001B[39;49m\u001B[38;5;124;43m'\u001B[39;49m\u001B[43m,\u001B[49m\u001B[43m \u001B[49m\u001B[43my\u001B[49m\u001B[38;5;241;43m=\u001B[39;49m\u001B[38;5;124;43m'\u001B[39;49m\u001B[38;5;124;43mSALES\u001B[39;49m\u001B[38;5;124;43m'\u001B[39;49m\u001B[43m,\u001B[49m\u001B[43m \u001B[49m\u001B[43mdata\u001B[49m\u001B[38;5;241;43m=\u001B[39;49m\u001B[43mdf\u001B[49m\u001B[43m)\u001B[49m\n\u001B[0;32m      2\u001B[0m _ \u001B[38;5;241m=\u001B[39m plot\u001B[38;5;241m.\u001B[39mset(title\u001B[38;5;241m=\u001B[39m\u001B[38;5;124m'\u001B[39m\u001B[38;5;124mWeekly sales distribution\u001B[39m\u001B[38;5;124m'\u001B[39m)\n",
      "File \u001B[1;32mE:\\All_Python_Frameworks\\FORECAST_TEST\\venv\\lib\\site-packages\\seaborn\\categorical.py:2231\u001B[0m, in \u001B[0;36mboxplot\u001B[1;34m(data, x, y, hue, order, hue_order, orient, color, palette, saturation, width, dodge, fliersize, linewidth, whis, ax, **kwargs)\u001B[0m\n\u001B[0;32m   2224\u001B[0m \u001B[38;5;28;01mdef\u001B[39;00m \u001B[38;5;21mboxplot\u001B[39m(\n\u001B[0;32m   2225\u001B[0m     data\u001B[38;5;241m=\u001B[39m\u001B[38;5;28;01mNone\u001B[39;00m, \u001B[38;5;241m*\u001B[39m, x\u001B[38;5;241m=\u001B[39m\u001B[38;5;28;01mNone\u001B[39;00m, y\u001B[38;5;241m=\u001B[39m\u001B[38;5;28;01mNone\u001B[39;00m, hue\u001B[38;5;241m=\u001B[39m\u001B[38;5;28;01mNone\u001B[39;00m, order\u001B[38;5;241m=\u001B[39m\u001B[38;5;28;01mNone\u001B[39;00m, hue_order\u001B[38;5;241m=\u001B[39m\u001B[38;5;28;01mNone\u001B[39;00m,\n\u001B[0;32m   2226\u001B[0m     orient\u001B[38;5;241m=\u001B[39m\u001B[38;5;28;01mNone\u001B[39;00m, color\u001B[38;5;241m=\u001B[39m\u001B[38;5;28;01mNone\u001B[39;00m, palette\u001B[38;5;241m=\u001B[39m\u001B[38;5;28;01mNone\u001B[39;00m, saturation\u001B[38;5;241m=\u001B[39m\u001B[38;5;241m.75\u001B[39m, width\u001B[38;5;241m=\u001B[39m\u001B[38;5;241m.8\u001B[39m,\n\u001B[0;32m   2227\u001B[0m     dodge\u001B[38;5;241m=\u001B[39m\u001B[38;5;28;01mTrue\u001B[39;00m, fliersize\u001B[38;5;241m=\u001B[39m\u001B[38;5;241m5\u001B[39m, linewidth\u001B[38;5;241m=\u001B[39m\u001B[38;5;28;01mNone\u001B[39;00m, whis\u001B[38;5;241m=\u001B[39m\u001B[38;5;241m1.5\u001B[39m, ax\u001B[38;5;241m=\u001B[39m\u001B[38;5;28;01mNone\u001B[39;00m,\n\u001B[0;32m   2228\u001B[0m     \u001B[38;5;241m*\u001B[39m\u001B[38;5;241m*\u001B[39mkwargs\n\u001B[0;32m   2229\u001B[0m ):\n\u001B[1;32m-> 2231\u001B[0m     plotter \u001B[38;5;241m=\u001B[39m \u001B[43m_BoxPlotter\u001B[49m\u001B[43m(\u001B[49m\u001B[43mx\u001B[49m\u001B[43m,\u001B[49m\u001B[43m \u001B[49m\u001B[43my\u001B[49m\u001B[43m,\u001B[49m\u001B[43m \u001B[49m\u001B[43mhue\u001B[49m\u001B[43m,\u001B[49m\u001B[43m \u001B[49m\u001B[43mdata\u001B[49m\u001B[43m,\u001B[49m\u001B[43m \u001B[49m\u001B[43morder\u001B[49m\u001B[43m,\u001B[49m\u001B[43m \u001B[49m\u001B[43mhue_order\u001B[49m\u001B[43m,\u001B[49m\n\u001B[0;32m   2232\u001B[0m \u001B[43m                          \u001B[49m\u001B[43morient\u001B[49m\u001B[43m,\u001B[49m\u001B[43m \u001B[49m\u001B[43mcolor\u001B[49m\u001B[43m,\u001B[49m\u001B[43m \u001B[49m\u001B[43mpalette\u001B[49m\u001B[43m,\u001B[49m\u001B[43m \u001B[49m\u001B[43msaturation\u001B[49m\u001B[43m,\u001B[49m\n\u001B[0;32m   2233\u001B[0m \u001B[43m                          \u001B[49m\u001B[43mwidth\u001B[49m\u001B[43m,\u001B[49m\u001B[43m \u001B[49m\u001B[43mdodge\u001B[49m\u001B[43m,\u001B[49m\u001B[43m \u001B[49m\u001B[43mfliersize\u001B[49m\u001B[43m,\u001B[49m\u001B[43m \u001B[49m\u001B[43mlinewidth\u001B[49m\u001B[43m)\u001B[49m\n\u001B[0;32m   2235\u001B[0m     \u001B[38;5;28;01mif\u001B[39;00m ax \u001B[38;5;129;01mis\u001B[39;00m \u001B[38;5;28;01mNone\u001B[39;00m:\n\u001B[0;32m   2236\u001B[0m         ax \u001B[38;5;241m=\u001B[39m plt\u001B[38;5;241m.\u001B[39mgca()\n",
      "File \u001B[1;32mE:\\All_Python_Frameworks\\FORECAST_TEST\\venv\\lib\\site-packages\\seaborn\\categorical.py:786\u001B[0m, in \u001B[0;36m_BoxPlotter.__init__\u001B[1;34m(self, x, y, hue, data, order, hue_order, orient, color, palette, saturation, width, dodge, fliersize, linewidth)\u001B[0m\n\u001B[0;32m    781\u001B[0m \u001B[38;5;28;01mdef\u001B[39;00m \u001B[38;5;21m__init__\u001B[39m(\u001B[38;5;28mself\u001B[39m, x, y, hue, data, order, hue_order,\n\u001B[0;32m    782\u001B[0m              orient, color, palette, saturation,\n\u001B[0;32m    783\u001B[0m              width, dodge, fliersize, linewidth):\n\u001B[0;32m    785\u001B[0m     \u001B[38;5;28mself\u001B[39m\u001B[38;5;241m.\u001B[39mestablish_variables(x, y, hue, data, orient, order, hue_order)\n\u001B[1;32m--> 786\u001B[0m     \u001B[38;5;28;43mself\u001B[39;49m\u001B[38;5;241;43m.\u001B[39;49m\u001B[43mestablish_colors\u001B[49m\u001B[43m(\u001B[49m\u001B[43mcolor\u001B[49m\u001B[43m,\u001B[49m\u001B[43m \u001B[49m\u001B[43mpalette\u001B[49m\u001B[43m,\u001B[49m\u001B[43m \u001B[49m\u001B[43msaturation\u001B[49m\u001B[43m)\u001B[49m\n\u001B[0;32m    788\u001B[0m     \u001B[38;5;28mself\u001B[39m\u001B[38;5;241m.\u001B[39mdodge \u001B[38;5;241m=\u001B[39m dodge\n\u001B[0;32m    789\u001B[0m     \u001B[38;5;28mself\u001B[39m\u001B[38;5;241m.\u001B[39mwidth \u001B[38;5;241m=\u001B[39m width\n",
      "File \u001B[1;32mE:\\All_Python_Frameworks\\FORECAST_TEST\\venv\\lib\\site-packages\\seaborn\\categorical.py:707\u001B[0m, in \u001B[0;36m_CategoricalPlotter.establish_colors\u001B[1;34m(self, color, palette, saturation)\u001B[0m\n\u001B[0;32m    705\u001B[0m \u001B[38;5;66;03m# Determine the gray color to use for the lines framing the plot\u001B[39;00m\n\u001B[0;32m    706\u001B[0m light_vals \u001B[38;5;241m=\u001B[39m [rgb_to_hls(\u001B[38;5;241m*\u001B[39mc)[\u001B[38;5;241m1\u001B[39m] \u001B[38;5;28;01mfor\u001B[39;00m c \u001B[38;5;129;01min\u001B[39;00m rgb_colors]\n\u001B[1;32m--> 707\u001B[0m lum \u001B[38;5;241m=\u001B[39m \u001B[38;5;28;43mmin\u001B[39;49m\u001B[43m(\u001B[49m\u001B[43mlight_vals\u001B[49m\u001B[43m)\u001B[49m \u001B[38;5;241m*\u001B[39m \u001B[38;5;241m.6\u001B[39m\n\u001B[0;32m    708\u001B[0m gray \u001B[38;5;241m=\u001B[39m mpl\u001B[38;5;241m.\u001B[39mcolors\u001B[38;5;241m.\u001B[39mrgb2hex((lum, lum, lum))\n\u001B[0;32m    710\u001B[0m \u001B[38;5;66;03m# Assign object attributes\u001B[39;00m\n",
      "\u001B[1;31mValueError\u001B[0m: min() arg is an empty sequence"
     ]
    }
   ],
   "source": [],
   "metadata": {
    "collapsed": false
   }
  },
  {
   "cell_type": "code",
   "execution_count": null,
   "outputs": [],
   "source": [],
   "metadata": {
    "collapsed": false
   }
  }
 ],
 "metadata": {
  "kernelspec": {
   "display_name": "Python 3",
   "language": "python",
   "name": "python3"
  },
  "language_info": {
   "codemirror_mode": {
    "name": "ipython",
    "version": 2
   },
   "file_extension": ".py",
   "mimetype": "text/x-python",
   "name": "python",
   "nbconvert_exporter": "python",
   "pygments_lexer": "ipython2",
   "version": "2.7.6"
  }
 },
 "nbformat": 4,
 "nbformat_minor": 0
}
