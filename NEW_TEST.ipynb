{
 "cells": [
  {
   "cell_type": "code",
   "execution_count": 8,
   "metadata": {
    "collapsed": true
   },
   "outputs": [],
   "source": [
    "import pandas as pd\n",
    "import matplotlib.pyplot as plt\n",
    "import warnings\n",
    "warnings.filterwarnings('ignore')\n",
    "import statsmodels.api as sm\n",
    "from pandas.tseries.offsets import DateOffset\n",
    "from statsmodels.tsa.arima_model import ARIMA\n",
    "from statsmodels.tsa.stattools import adfuller\n",
    "from statsmodels.graphics.tsaplots import plot_pacf, plot_acf\n",
    "from datetime import datetime"
   ]
  },
  {
   "cell_type": "code",
   "execution_count": 9,
   "outputs": [
    {
     "data": {
      "text/plain": "                   SALE_DT        SALES\n0  2019-01-01 00:00:00.000         0.00\n1  2019-01-02 00:00:00.000  16553359.58\n2  2019-01-03 00:00:00.000  17956624.58\n3  2019-01-04 00:00:00.000  19440652.23\n4  2019-01-05 00:00:00.000  20677704.73",
      "text/html": "<div>\n<style scoped>\n    .dataframe tbody tr th:only-of-type {\n        vertical-align: middle;\n    }\n\n    .dataframe tbody tr th {\n        vertical-align: top;\n    }\n\n    .dataframe thead th {\n        text-align: right;\n    }\n</style>\n<table border=\"1\" class=\"dataframe\">\n  <thead>\n    <tr style=\"text-align: right;\">\n      <th></th>\n      <th>SALE_DT</th>\n      <th>SALES</th>\n    </tr>\n  </thead>\n  <tbody>\n    <tr>\n      <th>0</th>\n      <td>2019-01-01 00:00:00.000</td>\n      <td>0.00</td>\n    </tr>\n    <tr>\n      <th>1</th>\n      <td>2019-01-02 00:00:00.000</td>\n      <td>16553359.58</td>\n    </tr>\n    <tr>\n      <th>2</th>\n      <td>2019-01-03 00:00:00.000</td>\n      <td>17956624.58</td>\n    </tr>\n    <tr>\n      <th>3</th>\n      <td>2019-01-04 00:00:00.000</td>\n      <td>19440652.23</td>\n    </tr>\n    <tr>\n      <th>4</th>\n      <td>2019-01-05 00:00:00.000</td>\n      <td>20677704.73</td>\n    </tr>\n  </tbody>\n</table>\n</div>"
     },
     "execution_count": 9,
     "metadata": {},
     "output_type": "execute_result"
    }
   ],
   "source": [
    "df = pd.read_csv('data.csv')\n",
    "# df = pd.read_csv('data.csv')\n",
    "df = df.drop('STORE', axis=1)\n",
    "df.head()"
   ],
   "metadata": {
    "collapsed": false
   }
  },
  {
   "cell_type": "code",
   "execution_count": 10,
   "outputs": [
    {
     "data": {
      "text/plain": "                     Month        Sales\n0  2019-01-01 00:00:00.000         0.00\n1  2019-01-02 00:00:00.000  16553359.58\n2  2019-01-03 00:00:00.000  17956624.58\n3  2019-01-04 00:00:00.000  19440652.23\n4  2019-01-05 00:00:00.000  20677704.73",
      "text/html": "<div>\n<style scoped>\n    .dataframe tbody tr th:only-of-type {\n        vertical-align: middle;\n    }\n\n    .dataframe tbody tr th {\n        vertical-align: top;\n    }\n\n    .dataframe thead th {\n        text-align: right;\n    }\n</style>\n<table border=\"1\" class=\"dataframe\">\n  <thead>\n    <tr style=\"text-align: right;\">\n      <th></th>\n      <th>Month</th>\n      <th>Sales</th>\n    </tr>\n  </thead>\n  <tbody>\n    <tr>\n      <th>0</th>\n      <td>2019-01-01 00:00:00.000</td>\n      <td>0.00</td>\n    </tr>\n    <tr>\n      <th>1</th>\n      <td>2019-01-02 00:00:00.000</td>\n      <td>16553359.58</td>\n    </tr>\n    <tr>\n      <th>2</th>\n      <td>2019-01-03 00:00:00.000</td>\n      <td>17956624.58</td>\n    </tr>\n    <tr>\n      <th>3</th>\n      <td>2019-01-04 00:00:00.000</td>\n      <td>19440652.23</td>\n    </tr>\n    <tr>\n      <th>4</th>\n      <td>2019-01-05 00:00:00.000</td>\n      <td>20677704.73</td>\n    </tr>\n  </tbody>\n</table>\n</div>"
     },
     "execution_count": 10,
     "metadata": {},
     "output_type": "execute_result"
    }
   ],
   "source": [
    "df.columns = ['Month', 'Sales']\n",
    "df.head()"
   ],
   "metadata": {
    "collapsed": false
   }
  },
  {
   "cell_type": "code",
   "execution_count": 11,
   "outputs": [
    {
     "data": {
      "text/plain": "(1274, 2)"
     },
     "execution_count": 11,
     "metadata": {},
     "output_type": "execute_result"
    }
   ],
   "source": [
    "df.shape"
   ],
   "metadata": {
    "collapsed": false
   }
  },
  {
   "cell_type": "code",
   "execution_count": 12,
   "outputs": [
    {
     "data": {
      "text/plain": "Month    0\nSales    0\ndtype: int64"
     },
     "execution_count": 12,
     "metadata": {},
     "output_type": "execute_result"
    }
   ],
   "source": [
    "df.isnull().sum()"
   ],
   "metadata": {
    "collapsed": false
   }
  },
  {
   "cell_type": "code",
   "execution_count": 13,
   "outputs": [
    {
     "data": {
      "text/plain": "                        Month        Sales\n1269  2022-06-26 00:00:00.000  17243093.78\n1270  2022-06-27 00:00:00.000  13538082.87\n1271  2022-06-28 00:00:00.000  13565274.83\n1272  2022-06-29 00:00:00.000  14959597.22\n1273  2022-06-30 00:00:00.000  15852066.23",
      "text/html": "<div>\n<style scoped>\n    .dataframe tbody tr th:only-of-type {\n        vertical-align: middle;\n    }\n\n    .dataframe tbody tr th {\n        vertical-align: top;\n    }\n\n    .dataframe thead th {\n        text-align: right;\n    }\n</style>\n<table border=\"1\" class=\"dataframe\">\n  <thead>\n    <tr style=\"text-align: right;\">\n      <th></th>\n      <th>Month</th>\n      <th>Sales</th>\n    </tr>\n  </thead>\n  <tbody>\n    <tr>\n      <th>1269</th>\n      <td>2022-06-26 00:00:00.000</td>\n      <td>17243093.78</td>\n    </tr>\n    <tr>\n      <th>1270</th>\n      <td>2022-06-27 00:00:00.000</td>\n      <td>13538082.87</td>\n    </tr>\n    <tr>\n      <th>1271</th>\n      <td>2022-06-28 00:00:00.000</td>\n      <td>13565274.83</td>\n    </tr>\n    <tr>\n      <th>1272</th>\n      <td>2022-06-29 00:00:00.000</td>\n      <td>14959597.22</td>\n    </tr>\n    <tr>\n      <th>1273</th>\n      <td>2022-06-30 00:00:00.000</td>\n      <td>15852066.23</td>\n    </tr>\n  </tbody>\n</table>\n</div>"
     },
     "execution_count": 13,
     "metadata": {},
     "output_type": "execute_result"
    }
   ],
   "source": [
    "df.tail()"
   ],
   "metadata": {
    "collapsed": false
   }
  },
  {
   "cell_type": "code",
   "execution_count": 14,
   "outputs": [
    {
     "data": {
      "text/plain": "(1274, 2)"
     },
     "execution_count": 14,
     "metadata": {},
     "output_type": "execute_result"
    }
   ],
   "source": [
    "df.shape"
   ],
   "metadata": {
    "collapsed": false
   }
  },
  {
   "cell_type": "code",
   "execution_count": 15,
   "outputs": [
    {
     "data": {
      "text/plain": "Month     object\nSales    float64\ndtype: object"
     },
     "execution_count": 15,
     "metadata": {},
     "output_type": "execute_result"
    }
   ],
   "source": [
    "df.dtypes"
   ],
   "metadata": {
    "collapsed": false
   }
  },
  {
   "cell_type": "code",
   "execution_count": 16,
   "outputs": [
    {
     "data": {
      "text/plain": "Month    datetime64[ns]\nSales           float64\ndtype: object"
     },
     "execution_count": 16,
     "metadata": {},
     "output_type": "execute_result"
    }
   ],
   "source": [
    "df['Month'] = pd.to_datetime(df['Month'])\n",
    "df.dtypes"
   ],
   "metadata": {
    "collapsed": false
   }
  },
  {
   "cell_type": "code",
   "execution_count": 17,
   "outputs": [
    {
     "data": {
      "text/plain": "       Month        Sales\n0 2019-01-01         0.00\n1 2019-01-02  16553359.58\n2 2019-01-03  17956624.58\n3 2019-01-04  19440652.23\n4 2019-01-05  20677704.73",
      "text/html": "<div>\n<style scoped>\n    .dataframe tbody tr th:only-of-type {\n        vertical-align: middle;\n    }\n\n    .dataframe tbody tr th {\n        vertical-align: top;\n    }\n\n    .dataframe thead th {\n        text-align: right;\n    }\n</style>\n<table border=\"1\" class=\"dataframe\">\n  <thead>\n    <tr style=\"text-align: right;\">\n      <th></th>\n      <th>Month</th>\n      <th>Sales</th>\n    </tr>\n  </thead>\n  <tbody>\n    <tr>\n      <th>0</th>\n      <td>2019-01-01</td>\n      <td>0.00</td>\n    </tr>\n    <tr>\n      <th>1</th>\n      <td>2019-01-02</td>\n      <td>16553359.58</td>\n    </tr>\n    <tr>\n      <th>2</th>\n      <td>2019-01-03</td>\n      <td>17956624.58</td>\n    </tr>\n    <tr>\n      <th>3</th>\n      <td>2019-01-04</td>\n      <td>19440652.23</td>\n    </tr>\n    <tr>\n      <th>4</th>\n      <td>2019-01-05</td>\n      <td>20677704.73</td>\n    </tr>\n  </tbody>\n</table>\n</div>"
     },
     "execution_count": 17,
     "metadata": {},
     "output_type": "execute_result"
    }
   ],
   "source": [
    "df.head()"
   ],
   "metadata": {
    "collapsed": false
   }
  },
  {
   "cell_type": "code",
   "execution_count": 71,
   "outputs": [
    {
     "name": "stdout",
     "output_type": "stream",
     "text": [
      "28690313.82\n",
      "16529748.66\n",
      "15917346.53\n",
      "18109257.85\n",
      "19616721.97\n",
      "24803369.5\n",
      "36535857.93\n",
      "32403904.78\n",
      "18677337.18\n",
      "19311470.94\n",
      "20282758.88\n",
      "20946400.19\n",
      "24958541.14\n",
      "39317879.77\n",
      "33297157.18\n",
      "20699769.58\n",
      "20304017.4\n",
      "23905061.67\n",
      "22490179.38\n",
      "27250960.63\n",
      "41701624.59\n",
      "38026545.8\n",
      "25289849.29\n",
      "27078493.52\n",
      "29029515.16\n",
      "33213583.1\n",
      "33887294.46\n",
      "49800999.64\n",
      "51234813.9\n",
      "45317555.39\n",
      "30771440.68\n",
      "889399770.5099998\n"
     ]
    }
   ],
   "source": [
    "summma = 0\n",
    "for i in df.Sales[334:365]:\n",
    "    print(i)\n",
    "    summma+=i\n",
    "print(summma)"
   ],
   "metadata": {
    "collapsed": false
   }
  },
  {
   "cell_type": "code",
   "execution_count": 70,
   "outputs": [
    {
     "data": {
      "text/plain": "15476403.59"
     },
     "execution_count": 70,
     "metadata": {},
     "output_type": "execute_result"
    }
   ],
   "source": [
    "df.Sales[365]"
   ],
   "metadata": {
    "collapsed": false
   }
  },
  {
   "cell_type": "code",
   "execution_count": null,
   "outputs": [],
   "source": [],
   "metadata": {
    "collapsed": false,
    "pycharm": {
     "is_executing": true
    }
   }
  },
  {
   "cell_type": "code",
   "execution_count": 46,
   "outputs": [],
   "source": [],
   "metadata": {
    "collapsed": false
   }
  }
 ],
 "metadata": {
  "kernelspec": {
   "display_name": "Python 3",
   "language": "python",
   "name": "python3"
  },
  "language_info": {
   "codemirror_mode": {
    "name": "ipython",
    "version": 2
   },
   "file_extension": ".py",
   "mimetype": "text/x-python",
   "name": "python",
   "nbconvert_exporter": "python",
   "pygments_lexer": "ipython2",
   "version": "2.7.6"
  }
 },
 "nbformat": 4,
 "nbformat_minor": 0
}
