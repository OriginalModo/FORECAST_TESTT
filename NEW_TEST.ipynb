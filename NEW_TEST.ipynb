{
 "cells": [
  {
   "cell_type": "code",
   "execution_count": 8,
   "metadata": {
    "collapsed": true
   },
   "outputs": [],
   "source": [
    "import pandas as pd\n",
    "import matplotlib.pyplot as plt\n",
    "import warnings\n",
    "warnings.filterwarnings('ignore')\n",
    "import statsmodels.api as sm\n",
    "from pandas.tseries.offsets import DateOffset\n",
    "from statsmodels.tsa.arima_model import ARIMA\n",
    "from statsmodels.tsa.stattools import adfuller\n",
    "from statsmodels.graphics.tsaplots import plot_pacf, plot_acf\n",
    "from datetime import datetime"
   ]
  },
  {
   "cell_type": "code",
   "execution_count": 9,
   "outputs": [
    {
     "data": {
      "text/plain": "                   SALE_DT        SALES\n0  2019-01-01 00:00:00.000         0.00\n1  2019-01-02 00:00:00.000  16553359.58\n2  2019-01-03 00:00:00.000  17956624.58\n3  2019-01-04 00:00:00.000  19440652.23\n4  2019-01-05 00:00:00.000  20677704.73",
      "text/html": "<div>\n<style scoped>\n    .dataframe tbody tr th:only-of-type {\n        vertical-align: middle;\n    }\n\n    .dataframe tbody tr th {\n        vertical-align: top;\n    }\n\n    .dataframe thead th {\n        text-align: right;\n    }\n</style>\n<table border=\"1\" class=\"dataframe\">\n  <thead>\n    <tr style=\"text-align: right;\">\n      <th></th>\n      <th>SALE_DT</th>\n      <th>SALES</th>\n    </tr>\n  </thead>\n  <tbody>\n    <tr>\n      <th>0</th>\n      <td>2019-01-01 00:00:00.000</td>\n      <td>0.00</td>\n    </tr>\n    <tr>\n      <th>1</th>\n      <td>2019-01-02 00:00:00.000</td>\n      <td>16553359.58</td>\n    </tr>\n    <tr>\n      <th>2</th>\n      <td>2019-01-03 00:00:00.000</td>\n      <td>17956624.58</td>\n    </tr>\n    <tr>\n      <th>3</th>\n      <td>2019-01-04 00:00:00.000</td>\n      <td>19440652.23</td>\n    </tr>\n    <tr>\n      <th>4</th>\n      <td>2019-01-05 00:00:00.000</td>\n      <td>20677704.73</td>\n    </tr>\n  </tbody>\n</table>\n</div>"
     },
     "execution_count": 9,
     "metadata": {},
     "output_type": "execute_result"
    }
   ],
   "source": [
    "df = pd.read_csv('data.csv')\n",
    "# df = pd.read_csv('data.csv')\n",
    "df = df.drop('STORE', axis=1)\n",
    "df.head()"
   ],
   "metadata": {
    "collapsed": false
   }
  },
  {
   "cell_type": "code",
   "execution_count": 10,
   "outputs": [
    {
     "data": {
      "text/plain": "                     Month        Sales\n0  2019-01-01 00:00:00.000         0.00\n1  2019-01-02 00:00:00.000  16553359.58\n2  2019-01-03 00:00:00.000  17956624.58\n3  2019-01-04 00:00:00.000  19440652.23\n4  2019-01-05 00:00:00.000  20677704.73",
      "text/html": "<div>\n<style scoped>\n    .dataframe tbody tr th:only-of-type {\n        vertical-align: middle;\n    }\n\n    .dataframe tbody tr th {\n        vertical-align: top;\n    }\n\n    .dataframe thead th {\n        text-align: right;\n    }\n</style>\n<table border=\"1\" class=\"dataframe\">\n  <thead>\n    <tr style=\"text-align: right;\">\n      <th></th>\n      <th>Month</th>\n      <th>Sales</th>\n    </tr>\n  </thead>\n  <tbody>\n    <tr>\n      <th>0</th>\n      <td>2019-01-01 00:00:00.000</td>\n      <td>0.00</td>\n    </tr>\n    <tr>\n      <th>1</th>\n      <td>2019-01-02 00:00:00.000</td>\n      <td>16553359.58</td>\n    </tr>\n    <tr>\n      <th>2</th>\n      <td>2019-01-03 00:00:00.000</td>\n      <td>17956624.58</td>\n    </tr>\n    <tr>\n      <th>3</th>\n      <td>2019-01-04 00:00:00.000</td>\n      <td>19440652.23</td>\n    </tr>\n    <tr>\n      <th>4</th>\n      <td>2019-01-05 00:00:00.000</td>\n      <td>20677704.73</td>\n    </tr>\n  </tbody>\n</table>\n</div>"
     },
     "execution_count": 10,
     "metadata": {},
     "output_type": "execute_result"
    }
   ],
   "source": [
    "df.columns = ['Month', 'Sales']\n",
    "df.head()"
   ],
   "metadata": {
    "collapsed": false
   }
  },
  {
   "cell_type": "code",
   "execution_count": 11,
   "outputs": [
    {
     "data": {
      "text/plain": "(1274, 2)"
     },
     "execution_count": 11,
     "metadata": {},
     "output_type": "execute_result"
    }
   ],
   "source": [
    "df.shape"
   ],
   "metadata": {
    "collapsed": false
   }
  },
  {
   "cell_type": "code",
   "execution_count": 12,
   "outputs": [
    {
     "data": {
      "text/plain": "Month    0\nSales    0\ndtype: int64"
     },
     "execution_count": 12,
     "metadata": {},
     "output_type": "execute_result"
    }
   ],
   "source": [
    "df.isnull().sum()"
   ],
   "metadata": {
    "collapsed": false
   }
  },
  {
   "cell_type": "code",
   "execution_count": 13,
   "outputs": [
    {
     "data": {
      "text/plain": "                        Month        Sales\n1269  2022-06-26 00:00:00.000  17243093.78\n1270  2022-06-27 00:00:00.000  13538082.87\n1271  2022-06-28 00:00:00.000  13565274.83\n1272  2022-06-29 00:00:00.000  14959597.22\n1273  2022-06-30 00:00:00.000  15852066.23",
      "text/html": "<div>\n<style scoped>\n    .dataframe tbody tr th:only-of-type {\n        vertical-align: middle;\n    }\n\n    .dataframe tbody tr th {\n        vertical-align: top;\n    }\n\n    .dataframe thead th {\n        text-align: right;\n    }\n</style>\n<table border=\"1\" class=\"dataframe\">\n  <thead>\n    <tr style=\"text-align: right;\">\n      <th></th>\n      <th>Month</th>\n      <th>Sales</th>\n    </tr>\n  </thead>\n  <tbody>\n    <tr>\n      <th>1269</th>\n      <td>2022-06-26 00:00:00.000</td>\n      <td>17243093.78</td>\n    </tr>\n    <tr>\n      <th>1270</th>\n      <td>2022-06-27 00:00:00.000</td>\n      <td>13538082.87</td>\n    </tr>\n    <tr>\n      <th>1271</th>\n      <td>2022-06-28 00:00:00.000</td>\n      <td>13565274.83</td>\n    </tr>\n    <tr>\n      <th>1272</th>\n      <td>2022-06-29 00:00:00.000</td>\n      <td>14959597.22</td>\n    </tr>\n    <tr>\n      <th>1273</th>\n      <td>2022-06-30 00:00:00.000</td>\n      <td>15852066.23</td>\n    </tr>\n  </tbody>\n</table>\n</div>"
     },
     "execution_count": 13,
     "metadata": {},
     "output_type": "execute_result"
    }
   ],
   "source": [
    "df.tail()"
   ],
   "metadata": {
    "collapsed": false
   }
  },
  {
   "cell_type": "code",
   "execution_count": 14,
   "outputs": [
    {
     "data": {
      "text/plain": "(1274, 2)"
     },
     "execution_count": 14,
     "metadata": {},
     "output_type": "execute_result"
    }
   ],
   "source": [
    "df.shape"
   ],
   "metadata": {
    "collapsed": false
   }
  },
  {
   "cell_type": "code",
   "execution_count": 15,
   "outputs": [
    {
     "data": {
      "text/plain": "Month     object\nSales    float64\ndtype: object"
     },
     "execution_count": 15,
     "metadata": {},
     "output_type": "execute_result"
    }
   ],
   "source": [
    "df.dtypes"
   ],
   "metadata": {
    "collapsed": false
   }
  },
  {
   "cell_type": "code",
   "execution_count": 16,
   "outputs": [
    {
     "data": {
      "text/plain": "Month    datetime64[ns]\nSales           float64\ndtype: object"
     },
     "execution_count": 16,
     "metadata": {},
     "output_type": "execute_result"
    }
   ],
   "source": [
    "df['Month'] = pd.to_datetime(df['Month'])\n",
    "df.dtypes"
   ],
   "metadata": {
    "collapsed": false
   }
  },
  {
   "cell_type": "code",
   "execution_count": 17,
   "outputs": [
    {
     "data": {
      "text/plain": "       Month        Sales\n0 2019-01-01         0.00\n1 2019-01-02  16553359.58\n2 2019-01-03  17956624.58\n3 2019-01-04  19440652.23\n4 2019-01-05  20677704.73",
      "text/html": "<div>\n<style scoped>\n    .dataframe tbody tr th:only-of-type {\n        vertical-align: middle;\n    }\n\n    .dataframe tbody tr th {\n        vertical-align: top;\n    }\n\n    .dataframe thead th {\n        text-align: right;\n    }\n</style>\n<table border=\"1\" class=\"dataframe\">\n  <thead>\n    <tr style=\"text-align: right;\">\n      <th></th>\n      <th>Month</th>\n      <th>Sales</th>\n    </tr>\n  </thead>\n  <tbody>\n    <tr>\n      <th>0</th>\n      <td>2019-01-01</td>\n      <td>0.00</td>\n    </tr>\n    <tr>\n      <th>1</th>\n      <td>2019-01-02</td>\n      <td>16553359.58</td>\n    </tr>\n    <tr>\n      <th>2</th>\n      <td>2019-01-03</td>\n      <td>17956624.58</td>\n    </tr>\n    <tr>\n      <th>3</th>\n      <td>2019-01-04</td>\n      <td>19440652.23</td>\n    </tr>\n    <tr>\n      <th>4</th>\n      <td>2019-01-05</td>\n      <td>20677704.73</td>\n    </tr>\n  </tbody>\n</table>\n</div>"
     },
     "execution_count": 17,
     "metadata": {},
     "output_type": "execute_result"
    }
   ],
   "source": [
    "df.head()"
   ],
   "metadata": {
    "collapsed": false
   }
  },
  {
   "cell_type": "code",
   "execution_count": 117,
   "outputs": [
    {
     "name": "stdout",
     "output_type": "stream",
     "text": [
      "14357272.94\n",
      "15213177.19\n",
      "16484016.6\n",
      "20239401.08\n",
      "29438920.15\n",
      "25239997.73\n",
      "15336861.04\n",
      "16406843.42\n",
      "17704980.21\n",
      "18903249.06\n",
      "21657195.89\n",
      "31952644.63\n",
      "26219059.69\n",
      "16240093.16\n",
      "17866596.21\n",
      "19066153.32\n",
      "19666008.73\n",
      "23177561.26\n",
      "33579669.89\n",
      "29167122.99\n",
      "19706373.54\n",
      "21302856.02\n",
      "22831521.07\n",
      "23811720.64\n",
      "23545284.3\n",
      "38348015.7\n",
      "35999627.06\n",
      "30445765.77\n",
      "36724777.11\n",
      "44218807.44\n",
      "30165027.64\n",
      "755016601.4799999\n"
     ]
    }
   ],
   "source": [
    "summma = 0\n",
    "for i in df.Sales[699:730]:\n",
    "    print(i)\n",
    "    summma+=i\n",
    "print(summma)"
   ],
   "metadata": {
    "collapsed": false
   }
  },
  {
   "cell_type": "code",
   "execution_count": 116,
   "outputs": [
    {
     "data": {
      "text/plain": "14357272.94"
     },
     "execution_count": 116,
     "metadata": {},
     "output_type": "execute_result"
    }
   ],
   "source": [
    "df.Sales[699]"
   ],
   "metadata": {
    "collapsed": false
   }
  },
  {
   "cell_type": "code",
   "execution_count": 115,
   "outputs": [
    {
     "data": {
      "text/plain": "12730710.99"
     },
     "execution_count": 115,
     "metadata": {},
     "output_type": "execute_result"
    }
   ],
   "source": [
    "df.Sales[730]"
   ],
   "metadata": {
    "collapsed": false
   }
  },
  {
   "cell_type": "code",
   "execution_count": 46,
   "outputs": [],
   "source": [],
   "metadata": {
    "collapsed": false
   }
  }
 ],
 "metadata": {
  "kernelspec": {
   "display_name": "Python 3",
   "language": "python",
   "name": "python3"
  },
  "language_info": {
   "codemirror_mode": {
    "name": "ipython",
    "version": 2
   },
   "file_extension": ".py",
   "mimetype": "text/x-python",
   "name": "python",
   "nbconvert_exporter": "python",
   "pygments_lexer": "ipython2",
   "version": "2.7.6"
  }
 },
 "nbformat": 4,
 "nbformat_minor": 0
}
